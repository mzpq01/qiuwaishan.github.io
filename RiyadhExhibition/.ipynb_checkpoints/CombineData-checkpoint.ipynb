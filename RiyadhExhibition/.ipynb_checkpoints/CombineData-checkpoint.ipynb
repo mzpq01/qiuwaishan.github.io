{
 "cells": [
  {
   "cell_type": "code",
   "execution_count": 3,
   "metadata": {
    "collapsed": false,
    "scrolled": true
   },
   "outputs": [
    {
     "name": "stdout",
     "output_type": "stream",
     "text": [
      "The Total Number of files need to read is: 28\n",
      "Total Columns are: 119\n"
     ]
    }
   ],
   "source": [
    "### Read and write CSV file\n",
    "import pandas as pd\n",
    "import time\n",
    "import os\n",
    "import numpy as np\n",
    "path = 'all_tweets/'\n",
    "files = os.listdir(path)\n",
    "all_files = []\n",
    "# print files\n",
    "for f in files:\n",
    "    if f.endswith(\".csv\"):\n",
    "        all_files.append(f)\n",
    "# print all_files\n",
    "count_files = len(all_files)\n",
    "print \"The Total Number of files need to read is: \" + str(count_files)\n",
    "df = pd.DataFrame()\n",
    "for filename in all_files:\n",
    "    ##print filename\n",
    "    new_path = \"all_tweets/\" + str(filename)\n",
    "    df0 = pd.read_csv(new_path)\n",
    "    df = df.append(df0.T)\n",
    "df.head()\n",
    "df = df.T\n",
    "df.drop(['Hour'], axis=1, inplace=True)\n",
    "df.head()\n",
    "print \"Total Columns are: \" + str(df.shape[1])"
   ]
  },
  {
   "cell_type": "code",
   "execution_count": 5,
   "metadata": {
    "collapsed": false
   },
   "outputs": [
    {
     "name": "stdout",
     "output_type": "stream",
     "text": [
      "['Oct 23', 'Oct 20', 'Oct 26', 'Oct 29', 'Dec 09', 'Dec 06', 'Dec 02', 'Dec 01', 'Nov 16', 'Nov 15', 'Nov 13', 'Nov 10', 'Nov 19', 'Dec 15', 'Dec 12', 'Nov 04', 'Nov 07', 'Nov 01', 'Nov 09', 'Nov 30', 'Oct 17', 'Dec 03', 'Oct 14', 'Nov 29', 'Nov 28', 'Nov 27', 'Nov 26', 'Nov 25', 'Nov 24', 'Nov 23', 'Nov 22', 'Nov 21']\n",
      "\n",
      "\n",
      "Duplicated Columns are: 32*2\n"
     ]
    }
   ],
   "source": [
    "from collections import Counter\n",
    "A = Counter(df.columns)\n",
    "Keys = dict.keys(A)\n",
    "Values = dict.values(A)\n",
    "# print Keys\n",
    "# print Values\n",
    "Dup_Keys =[]\n",
    "j=0\n",
    "## Must use df.copy() to copy a new dataframe. Simply rename does not work.\n",
    "df_clean = df.copy()\n",
    "df_new= pd.DataFrame()\n",
    "df_tmp= pd.DataFrame()\n",
    "for i in Values:\n",
    "    j=j+1\n",
    "    if i ==2:\n",
    "        Keys[j-1]\n",
    "        Dup_Keys.append(Keys[j-1])\n",
    "print Dup_Keys\n",
    "print \"\\n\"\n",
    "print \"Duplicated Columns are: \" + str(len(Dup_Keys)) + \"*2\""
   ]
  },
  {
   "cell_type": "code",
   "execution_count": 6,
   "metadata": {
    "collapsed": false
   },
   "outputs": [
    {
     "name": "stdout",
     "output_type": "stream",
     "text": [
      "Clean columns are: 55\n",
      "(24, 119)\n"
     ]
    }
   ],
   "source": [
    "df_clean.drop(Dup_Keys,axis=1,inplace=True)\n",
    "print \"Clean columns are: \" + str(df_clean.shape[1])\n",
    "print df.shape"
   ]
  },
  {
   "cell_type": "code",
   "execution_count": 7,
   "metadata": {
    "collapsed": false
   },
   "outputs": [
    {
     "name": "stdout",
     "output_type": "stream",
     "text": [
      "(24, 87)\n"
     ]
    }
   ],
   "source": [
    "for i in Dup_Keys:\n",
    "#     print i\n",
    "    df_tmp= df[i]\n",
    "    df_tmp.columns = ['a','b']\n",
    "    df_clean[i]=df_tmp['a']+df_tmp['b']\n",
    "print df_clean.shape"
   ]
  },
  {
   "cell_type": "code",
   "execution_count": 9,
   "metadata": {
    "collapsed": false
   },
   "outputs": [
    {
     "name": "stdout",
     "output_type": "stream",
     "text": [
      "Done\n"
     ]
    }
   ],
   "source": [
    "writer = pd.ExcelWriter('tweets_all.xlsx', engine='xlsxwriter')\n",
    "# Convert the dataframe to an XlsxWriter Excel object.\n",
    "df_clean.to_excel(writer, sheet_name='Sheet1')\n",
    "# Close the Pandas Excel writer and output the Excel file.\n",
    "writer.save()\n",
    "df_clean.to_csv(\"prayer_all.csv\", index=True, header=True, encoding='utf-8')\n",
    "print \"Done\""
   ]
  }
 ],
 "metadata": {
  "kernelspec": {
   "display_name": "Python 2",
   "language": "python",
   "name": "python2"
  },
  "language_info": {
   "codemirror_mode": {
    "name": "ipython",
    "version": 2
   },
   "file_extension": ".py",
   "mimetype": "text/x-python",
   "name": "python",
   "nbconvert_exporter": "python",
   "pygments_lexer": "ipython2",
   "version": "2.7.11"
  }
 },
 "nbformat": 4,
 "nbformat_minor": 0
}
