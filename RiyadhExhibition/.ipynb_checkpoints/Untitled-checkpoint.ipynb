{
 "cells": [
  {
   "cell_type": "code",
   "execution_count": null,
   "metadata": {
    "collapsed": true
   },
   "outputs": [],
   "source": [
    "### Read and write CSV file\n",
    "import pandas as pd\n",
    "import time\n",
    "import os\n",
    "import numpy as np\n",
    "path2 = 'prayer/'\n",
    "files = os.listdir(path2)\n",
    "all_files = []\n",
    "# print files\n",
    "for f in files:\n",
    "    if f.endswith(\".csv\"):\n",
    "        all_files.append(f)\n",
    "# print all_files\n",
    "count_files = len(all_files)\n",
    "print count_files\n",
    "df = pd.DataFrame()\n",
    "for filename in all_files:\n",
    "    ##print filename\n",
    "    new_path = \"prayer/\" + str(filename)\n",
    "    df0 = pd.read_csv(new_path)\n",
    "    df = df.append(df0)\n",
    "df.head()\n",
    "df.to_csv(\"prayer\"+\"/\"+\"prayer_all.csv\", index=False, encoding='utf-8')\n",
    "print \"Done\""
   ]
  }
 ],
 "metadata": {
  "kernelspec": {
   "display_name": "Python 2",
   "language": "python",
   "name": "python2"
  },
  "language_info": {
   "codemirror_mode": {
    "name": "ipython",
    "version": 2
   },
   "file_extension": ".py",
   "mimetype": "text/x-python",
   "name": "python",
   "nbconvert_exporter": "python",
   "pygments_lexer": "ipython2",
   "version": "2.7.11"
  }
 },
 "nbformat": 4,
 "nbformat_minor": 0
}
