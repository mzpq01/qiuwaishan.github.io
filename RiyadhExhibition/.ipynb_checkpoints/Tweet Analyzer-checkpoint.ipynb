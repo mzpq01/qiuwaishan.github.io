{
 "cells": [
  {
   "cell_type": "code",
   "execution_count": 3,
   "metadata": {
    "collapsed": false
   },
   "outputs": [
    {
     "name": "stdout",
     "output_type": "stream",
     "text": [
      "23465\n",
      "<type 'list'>\n",
      "2015-10-07 22%3A16%3A58.283000tweets.json\n",
      "['2015-10-07 22%3A16%3A58.283000tweets.json', '2015-10-08 00%3A05%3A39.021359tweets.json', '2015-10-08 00%3A10%3A48.733204tweets.json']\n"
     ]
    }
   ],
   "source": [
    "import pandas as pd\n",
    "import time\n",
    "import os\n",
    "path = 'twitter/'\n",
    "all_files = os.listdir(path)\n",
    "count_files = len(os.listdir(path))\n",
    "print count_files\n",
    "print type(all_files)\n",
    "print all_files[0]\n",
    "print all_files[:3]"
   ]
  },
  {
   "cell_type": "code",
   "execution_count": 4,
   "metadata": {
    "collapsed": false
   },
   "outputs": [
    {
     "name": "stdout",
     "output_type": "stream",
     "text": [
      "(34346, 9)\n"
     ]
    }
   ],
   "source": [
    "i=0\n",
    "limit = 561\n",
    "df = pd.DataFrame()\n",
    "for filename in all_files:\n",
    "    i=i+1\n",
    "    if i <= limit:\n",
    "        ##print filename\n",
    "        new_path = \"twitter\"+\"/\" + str(filename)\n",
    "        df0 = pd.read_json(new_path)\n",
    "        df1 = df0.T\n",
    "        df = df.append(df1)\n",
    "print df.shape"
   ]
  },
  {
   "cell_type": "code",
   "execution_count": null,
   "metadata": {
    "collapsed": false
   },
   "outputs": [],
   "source": [
    "### df = pd.read_json('twitter/2015-10-07 22%3A16%3A58.283000tweets.json')\n",
    "# all_tweets is a dataframe"
   ]
  },
  {
   "cell_type": "code",
   "execution_count": 5,
   "metadata": {
    "collapsed": false
   },
   "outputs": [
    {
     "data": {
      "text/html": [
       "<div>\n",
       "<table border=\"1\" class=\"dataframe\">\n",
       "  <thead>\n",
       "    <tr style=\"text-align: right;\">\n",
       "      <th></th>\n",
       "      <th>content</th>\n",
       "      <th>data_point</th>\n",
       "      <th>lat</th>\n",
       "      <th>lon</th>\n",
       "      <th>raw_source</th>\n",
       "      <th>time</th>\n",
       "      <th>tweet_id</th>\n",
       "      <th>user</th>\n",
       "      <th>user_location</th>\n",
       "    </tr>\n",
       "  </thead>\n",
       "  <tbody>\n",
       "    <tr>\n",
       "      <th>1990-08-29 04:29:43.851974656</th>\n",
       "      <td>االووو</td>\n",
       "      <td>none</td>\n",
       "      <td>46.7412</td>\n",
       "      <td>24.6219</td>\n",
       "      <td>{u'contributors': None, u'truncated': False, u...</td>\n",
       "      <td>Wed Oct 07 23:37:23 +0000 2015</td>\n",
       "      <td>651904183851974656</td>\n",
       "      <td>3086790402</td>\n",
       "      <td></td>\n",
       "    </tr>\n",
       "    <tr>\n",
       "      <th>1990-08-29 04:33:07.883888640</th>\n",
       "      <td>@i_Mjeed خير ان شاء الله مابقى شي 😂</td>\n",
       "      <td>none</td>\n",
       "      <td>46.6996</td>\n",
       "      <td>24.5557</td>\n",
       "      <td>{u'contributors': None, u'truncated': False, u...</td>\n",
       "      <td>Wed Oct 07 23:38:12 +0000 2015</td>\n",
       "      <td>651904387883888640</td>\n",
       "      <td>358398827</td>\n",
       "      <td>السعودية</td>\n",
       "    </tr>\n",
       "    <tr>\n",
       "      <th>1990-08-29 04:37:19.504384000</th>\n",
       "      <td>\"@bafadel78: تمر الحياة بين حلم وأمنية ولايحدث...</td>\n",
       "      <td>none</td>\n",
       "      <td>46.6361</td>\n",
       "      <td>24.6053</td>\n",
       "      <td>{u'contributors': None, u'truncated': False, u...</td>\n",
       "      <td>Wed Oct 07 23:39:12 +0000 2015</td>\n",
       "      <td>651904639504384000</td>\n",
       "      <td>2963814349</td>\n",
       "      <td></td>\n",
       "    </tr>\n",
       "  </tbody>\n",
       "</table>\n",
       "</div>"
      ],
      "text/plain": [
       "                                                                         content  \\\n",
       "1990-08-29 04:29:43.851974656                                             االووو   \n",
       "1990-08-29 04:33:07.883888640               @i_Mjeed خير ان شاء الله مابقى شي 😂   \n",
       "1990-08-29 04:37:19.504384000  \"@bafadel78: تمر الحياة بين حلم وأمنية ولايحدث...   \n",
       "\n",
       "                              data_point      lat      lon  \\\n",
       "1990-08-29 04:29:43.851974656       none  46.7412  24.6219   \n",
       "1990-08-29 04:33:07.883888640       none  46.6996  24.5557   \n",
       "1990-08-29 04:37:19.504384000       none  46.6361  24.6053   \n",
       "\n",
       "                                                                      raw_source  \\\n",
       "1990-08-29 04:29:43.851974656  {u'contributors': None, u'truncated': False, u...   \n",
       "1990-08-29 04:33:07.883888640  {u'contributors': None, u'truncated': False, u...   \n",
       "1990-08-29 04:37:19.504384000  {u'contributors': None, u'truncated': False, u...   \n",
       "\n",
       "                                                         time  \\\n",
       "1990-08-29 04:29:43.851974656  Wed Oct 07 23:37:23 +0000 2015   \n",
       "1990-08-29 04:33:07.883888640  Wed Oct 07 23:38:12 +0000 2015   \n",
       "1990-08-29 04:37:19.504384000  Wed Oct 07 23:39:12 +0000 2015   \n",
       "\n",
       "                                         tweet_id        user user_location  \n",
       "1990-08-29 04:29:43.851974656  651904183851974656  3086790402                \n",
       "1990-08-29 04:33:07.883888640  651904387883888640   358398827      السعودية  \n",
       "1990-08-29 04:37:19.504384000  651904639504384000  2963814349                "
      ]
     },
     "execution_count": 5,
     "metadata": {},
     "output_type": "execute_result"
    }
   ],
   "source": [
    "df.head(3)"
   ]
  },
  {
   "cell_type": "code",
   "execution_count": 6,
   "metadata": {
    "collapsed": false
   },
   "outputs": [
    {
     "name": "stdout",
     "output_type": "stream",
     "text": [
      "34346\n",
      "<class 'pandas.core.frame.DataFrame'>\n",
      "content       object\n",
      "data_point    object\n",
      "lat           object\n",
      "dtype: object\n",
      "Index([u'content', u'data_point', u'lat', u'lon', u'raw_source', u'time',\n",
      "       u'tweet_id', u'user', u'user_location'],\n",
      "      dtype='object')\n"
     ]
    }
   ],
   "source": [
    "print len(df)\n",
    "print type(df)\n",
    "print df.dtypes.head(3)\n",
    "print df.columns"
   ]
  },
  {
   "cell_type": "code",
   "execution_count": 7,
   "metadata": {
    "collapsed": false
   },
   "outputs": [
    {
     "name": "stdout",
     "output_type": "stream",
     "text": [
      "(34346, 9)\n"
     ]
    }
   ],
   "source": [
    "# reverse the columns and rows\n",
    "all_tweets = df\n",
    "print all_tweets.shape"
   ]
  },
  {
   "cell_type": "code",
   "execution_count": 8,
   "metadata": {
    "collapsed": false
   },
   "outputs": [],
   "source": [
    "# Add and drop columns, reset index\n",
    "all_tweets['category'] = \"\"\n",
    "## all_tweets['user_from']= \"\"\n",
    "all_tweets.reset_index(drop=True, inplace=True)\n",
    "all_tweets.drop(['data_point','raw_source','tweet_id', 'user','user_location'],axis=1, inplace=True)"
   ]
  },
  {
   "cell_type": "code",
   "execution_count": 9,
   "metadata": {
    "collapsed": false
   },
   "outputs": [
    {
     "data": {
      "text/html": [
       "<div>\n",
       "<table border=\"1\" class=\"dataframe\">\n",
       "  <thead>\n",
       "    <tr style=\"text-align: right;\">\n",
       "      <th></th>\n",
       "      <th>content</th>\n",
       "      <th>lat</th>\n",
       "      <th>lon</th>\n",
       "      <th>time</th>\n",
       "      <th>category</th>\n",
       "    </tr>\n",
       "  </thead>\n",
       "  <tbody>\n",
       "    <tr>\n",
       "      <th>0</th>\n",
       "      <td>االووو</td>\n",
       "      <td>46.7412</td>\n",
       "      <td>24.6219</td>\n",
       "      <td>Wed Oct 07 23:37:23 +0000 2015</td>\n",
       "      <td></td>\n",
       "    </tr>\n",
       "    <tr>\n",
       "      <th>1</th>\n",
       "      <td>@i_Mjeed خير ان شاء الله مابقى شي 😂</td>\n",
       "      <td>46.6996</td>\n",
       "      <td>24.5557</td>\n",
       "      <td>Wed Oct 07 23:38:12 +0000 2015</td>\n",
       "      <td></td>\n",
       "    </tr>\n",
       "    <tr>\n",
       "      <th>2</th>\n",
       "      <td>\"@bafadel78: تمر الحياة بين حلم وأمنية ولايحدث...</td>\n",
       "      <td>46.6361</td>\n",
       "      <td>24.6053</td>\n",
       "      <td>Wed Oct 07 23:39:12 +0000 2015</td>\n",
       "      <td></td>\n",
       "    </tr>\n",
       "  </tbody>\n",
       "</table>\n",
       "</div>"
      ],
      "text/plain": [
       "                                             content      lat      lon  \\\n",
       "0                                             االووو  46.7412  24.6219   \n",
       "1               @i_Mjeed خير ان شاء الله مابقى شي 😂  46.6996  24.5557   \n",
       "2  \"@bafadel78: تمر الحياة بين حلم وأمنية ولايحدث...  46.6361  24.6053   \n",
       "\n",
       "                             time category  \n",
       "0  Wed Oct 07 23:37:23 +0000 2015           \n",
       "1  Wed Oct 07 23:38:12 +0000 2015           \n",
       "2  Wed Oct 07 23:39:12 +0000 2015           "
      ]
     },
     "execution_count": 9,
     "metadata": {},
     "output_type": "execute_result"
    }
   ],
   "source": [
    "all_tweets.head(3)"
   ]
  },
  {
   "cell_type": "code",
   "execution_count": 10,
   "metadata": {
    "collapsed": false
   },
   "outputs": [],
   "source": [
    "prayer_dict = {'pray':'صلى','prayer':'صلاة','praying':'صلاة','muslim':'مسلم','Islam':'الإسلام',\n",
    "               'mosque':'جامع','mosques':'جوامع','masjid':'مساجد','masjids':'مسجد',\n",
    "               'call to prayer':'اذان','muezzin':'مؤذن','holy':'مقدس',\n",
    "              'imam':'أئمة','imams':'امام','koran':'القرآن','chapter':'سور','verse':'آيات'}\n",
    "food_dict = {'food':'طعام','eating':'يتناول الطعام','falafel':'فلافل','shawarma':'الشاورما',\n",
    "            'starbucks':'ستاربكس','mcdonalds':'ماكدونالدز'}\n",
    "fun_dict = {'restaurant':'مطاعم','restaurants':'مطعم','park':'حدائق','theater':'سينمات','museum':'متاحف',\n",
    "           'bakery':'مخابز','gallery':'معرض','fair':'مهرجانات','zoo':'حديقة الحيوان','hotel':'فنادق',\n",
    "           'starbucks':'ستاربكس','mcdonalds':'ماكدونالدز'}\n",
    "parking_dict = {'stop':'يوقف','park':'وقف','parking lot':'موقف','parking':'مواقف','standing':'المواقف',\n",
    "               'street parking':'يركن','garage':'يجرّش'}\n",
    "traffic_dict = {'traffic':'مرور','underground':'سرا','crowd':'زحمة','crowds':'زحام','jammed':'اختناق',\n",
    "                'erupted':'نشبت','reroute':'تحويلة','bump':'مطب','pothole':'مطبات'}\n",
    "accident_dict = {'accident':'حادث','accidents':'حوادث','crashes':'حادثة','collision':'صدم','hit by':'صدمني',\n",
    "                 'detour':'انعفطت',\n",
    "                'wreck':'خربت','wreckage':'حطام'}\n",
    "transit_dict = {'bus':'باص','taxi':'تاكسي','taxis':'تاكسيات','cab':'تكسي','limo':'ليموزين','fare':'أجرة',\n",
    "                'cab fee':'اجرة','Careem':'كريم','Uber':'اوبر','driver':'سواق','chauffeur':'سائق','airport':'مطارات',\n",
    "                'public transit':'مواصلات'}"
   ]
  },
  {
   "cell_type": "code",
   "execution_count": 11,
   "metadata": {
    "collapsed": false
   },
   "outputs": [],
   "source": [
    "# Search for Arabic terms using unicode\n",
    "# It works on English too\n",
    "\n",
    "def count_search_terms(arabic_word):\n",
    "    j=0\n",
    "    search_term = unicode(arabic_word, encoding=\"utf-8\")\n",
    "    for row in all_tweets.itertuples():\n",
    "        if search_term.lower() in row[1].lower():\n",
    "            j+=1\n",
    "    return j"
   ]
  },
  {
   "cell_type": "code",
   "execution_count": 12,
   "metadata": {
    "collapsed": true
   },
   "outputs": [],
   "source": [
    "# Now count multiple terms at once\n",
    "# The function counts both Arabic and English versions\n",
    "\n",
    "def count_category(search_dict):\n",
    "    i=0\n",
    "    for key in search_dict:\n",
    "        count = count_search_terms(search_dict[key])\n",
    "        count = count + count_search_terms(key)\n",
    "        i+=count\n",
    "        print key + \": \" + str(count)\n",
    "    print \"category total: \" + str(i)"
   ]
  },
  {
   "cell_type": "code",
   "execution_count": 13,
   "metadata": {
    "collapsed": false
   },
   "outputs": [
    {
     "name": "stdout",
     "output_type": "stream",
     "text": [
      "bump: 0\n",
      "traffic: 27\n",
      "erupted: 0\n",
      "crowd: 11\n",
      "reroute: 0\n",
      "underground: 146\n",
      "jammed: 0\n",
      "crowds: 24\n",
      "pothole: 0\n",
      "category total: 208\n"
     ]
    }
   ],
   "source": [
    "count_category(traffic_dict)"
   ]
  },
  {
   "cell_type": "code",
   "execution_count": 14,
   "metadata": {
    "collapsed": false
   },
   "outputs": [
    {
     "name": "stdout",
     "output_type": "stream",
     "text": [
      "standing: 15\n",
      "stop: 0\n",
      "street parking: 0\n",
      "park: 186\n",
      "parking lot: 33\n",
      "garage: 0\n",
      "parking: 16\n",
      "category total: 250\n"
     ]
    }
   ],
   "source": [
    "count_category(parking_dict)"
   ]
  },
  {
   "cell_type": "code",
   "execution_count": 15,
   "metadata": {
    "collapsed": false
   },
   "outputs": [
    {
     "name": "stdout",
     "output_type": "stream",
     "text": [
      "collision: 17\n",
      "accident: 0\n",
      "crashes: 0\n",
      "wreck: 0\n",
      "hit by: 0\n",
      "accidents: 0\n",
      "detour: 0\n",
      "wreckage: 0\n",
      "category total: 17\n"
     ]
    }
   ],
   "source": [
    "count_category(accident_dict)"
   ]
  },
  {
   "cell_type": "code",
   "execution_count": 16,
   "metadata": {
    "collapsed": false
   },
   "outputs": [
    {
     "name": "stdout",
     "output_type": "stream",
     "text": [
      "taxi: 0\n",
      "fare: 7\n",
      "public transit: 0\n",
      "bus: 209\n",
      "driver: 88\n",
      "limo: 33\n",
      "Careem: 186\n",
      "Uber: 0\n",
      "cab fee: 0\n",
      "airport: 5\n",
      "chauffeur: 4\n",
      "cab: 8\n",
      "taxis: 0\n",
      "category total: 540\n"
     ]
    }
   ],
   "source": [
    "count_category(transit_dict)"
   ]
  },
  {
   "cell_type": "code",
   "execution_count": 17,
   "metadata": {
    "collapsed": false
   },
   "outputs": [
    {
     "name": "stdout",
     "output_type": "stream",
     "text": [
      "imam: 0\n",
      "chapter: 240\n",
      "masjids: 29\n",
      "holy: 8\n",
      "pray: 179\n",
      "mosques: 0\n",
      "muslim: 153\n",
      "mosque: 368\n",
      "koran: 72\n",
      "verse: 13\n",
      "masjid: 12\n",
      "prayer: 312\n",
      "muezzin: 0\n",
      "imams: 11\n",
      "praying: 312\n",
      "call to prayer: 34\n",
      "Islam: 82\n",
      "category total: 1825\n"
     ]
    }
   ],
   "source": [
    "count_category(prayer_dict)"
   ]
  },
  {
   "cell_type": "code",
   "execution_count": 18,
   "metadata": {
    "collapsed": false
   },
   "outputs": [
    {
     "name": "stdout",
     "output_type": "stream",
     "text": [
      "fair: 81\n",
      "hotel: 335\n",
      "park: 73\n",
      "starbucks: 994\n",
      "mcdonalds: 83\n",
      "gallery: 54\n",
      "theater: 0\n",
      "restaurant: 162\n",
      "museum: 42\n",
      "zoo: 0\n",
      "bakery: 23\n",
      "restaurants: 88\n",
      "category total: 1935\n"
     ]
    }
   ],
   "source": [
    "count_category(fun_dict)"
   ]
  },
  {
   "cell_type": "code",
   "execution_count": 19,
   "metadata": {
    "collapsed": true
   },
   "outputs": [],
   "source": [
    "# function decides if category is present\n",
    "def has_category(tweet_content, search_dict):\n",
    "    answer = False\n",
    "#     tweet_content = unicode(tweet_content, encoding=\"utf-8\")\n",
    "    for english_word in search_dict.keys():\n",
    "        if english_word.lower() in tweet_content.lower():\n",
    "            answer = True\n",
    "    for arabic_word in search_dict.values():\n",
    "        arabic_word = unicode(arabic_word, encoding=\"utf-8\")\n",
    "        if arabic_word in tweet_content:\n",
    "            answer = True\n",
    "    return answer"
   ]
  },
  {
   "cell_type": "code",
   "execution_count": 20,
   "metadata": {
    "collapsed": true
   },
   "outputs": [],
   "source": [
    "# function checks every row and adds categories\n",
    "def fill_in_categories():\n",
    "    for tweet in all_tweets.itertuples():\n",
    "        idx = tweet[0]\n",
    "        content = all_tweets.loc[idx,'content']\n",
    "        if has_category(content, traffic_dict):\n",
    "            all_tweets.loc[idx, 'category'] = 'traffic'\n",
    "        elif has_category(content, transit_dict):\n",
    "            all_tweets.loc[idx, 'category'] = 'transit'\n",
    "        elif has_category(content, accident_dict):\n",
    "            all_tweets.loc[idx, 'category'] = 'accident'\n",
    "        elif has_category(content, parking_dict):\n",
    "            all_tweets.loc[idx, 'category'] = 'parking'\n",
    "        elif has_category(content, prayer_dict):\n",
    "            all_tweets.loc[idx, 'category'] = 'prayer'\n",
    "        elif has_category(content, fun_dict):\n",
    "            all_tweets.loc[idx, 'category'] = 'fun'\n",
    "        else:\n",
    "            all_tweets.loc[idx, 'category'] = 'none'            "
   ]
  },
  {
   "cell_type": "code",
   "execution_count": 21,
   "metadata": {
    "collapsed": false
   },
   "outputs": [],
   "source": [
    "fill_in_categories()"
   ]
  },
  {
   "cell_type": "code",
   "execution_count": 22,
   "metadata": {
    "collapsed": false
   },
   "outputs": [
    {
     "data": {
      "text/html": [
       "<div>\n",
       "<table border=\"1\" class=\"dataframe\">\n",
       "  <thead>\n",
       "    <tr style=\"text-align: right;\">\n",
       "      <th></th>\n",
       "      <th>content</th>\n",
       "      <th>lat</th>\n",
       "      <th>lon</th>\n",
       "      <th>time</th>\n",
       "      <th>category</th>\n",
       "    </tr>\n",
       "  </thead>\n",
       "  <tbody>\n",
       "    <tr>\n",
       "      <th>0</th>\n",
       "      <td>االووو</td>\n",
       "      <td>46.7412</td>\n",
       "      <td>24.6219</td>\n",
       "      <td>Wed Oct 07 23:37:23 +0000 2015</td>\n",
       "      <td>none</td>\n",
       "    </tr>\n",
       "    <tr>\n",
       "      <th>1</th>\n",
       "      <td>@i_Mjeed خير ان شاء الله مابقى شي 😂</td>\n",
       "      <td>46.6996</td>\n",
       "      <td>24.5557</td>\n",
       "      <td>Wed Oct 07 23:38:12 +0000 2015</td>\n",
       "      <td>none</td>\n",
       "    </tr>\n",
       "    <tr>\n",
       "      <th>2</th>\n",
       "      <td>\"@bafadel78: تمر الحياة بين حلم وأمنية ولايحدث...</td>\n",
       "      <td>46.6361</td>\n",
       "      <td>24.6053</td>\n",
       "      <td>Wed Oct 07 23:39:12 +0000 2015</td>\n",
       "      <td>transit</td>\n",
       "    </tr>\n",
       "    <tr>\n",
       "      <th>3</th>\n",
       "      <td>اللهم افتح لنا أبواب السعادة والرضا.\\nواجعل ما...</td>\n",
       "      <td>46.6361</td>\n",
       "      <td>24.6053</td>\n",
       "      <td>Wed Oct 07 23:39:37 +0000 2015</td>\n",
       "      <td>none</td>\n",
       "    </tr>\n",
       "    <tr>\n",
       "      <th>4</th>\n",
       "      <td>'قدروا' الآن نشط في Saudi Arabia http://t.co/y...</td>\n",
       "      <td>46.7224</td>\n",
       "      <td>24.688</td>\n",
       "      <td>Wed Oct 07 23:40:17 +0000 2015</td>\n",
       "      <td>none</td>\n",
       "    </tr>\n",
       "  </tbody>\n",
       "</table>\n",
       "</div>"
      ],
      "text/plain": [
       "                                             content      lat      lon  \\\n",
       "0                                             االووو  46.7412  24.6219   \n",
       "1               @i_Mjeed خير ان شاء الله مابقى شي 😂  46.6996  24.5557   \n",
       "2  \"@bafadel78: تمر الحياة بين حلم وأمنية ولايحدث...  46.6361  24.6053   \n",
       "3  اللهم افتح لنا أبواب السعادة والرضا.\\nواجعل ما...  46.6361  24.6053   \n",
       "4  'قدروا' الآن نشط في Saudi Arabia http://t.co/y...  46.7224   24.688   \n",
       "\n",
       "                             time category  \n",
       "0  Wed Oct 07 23:37:23 +0000 2015     none  \n",
       "1  Wed Oct 07 23:38:12 +0000 2015     none  \n",
       "2  Wed Oct 07 23:39:12 +0000 2015  transit  \n",
       "3  Wed Oct 07 23:39:37 +0000 2015     none  \n",
       "4  Wed Oct 07 23:40:17 +0000 2015     none  "
      ]
     },
     "execution_count": 22,
     "metadata": {},
     "output_type": "execute_result"
    }
   ],
   "source": [
    "all_tweets.head()"
   ]
  },
  {
   "cell_type": "code",
   "execution_count": 196,
   "metadata": {
    "collapsed": true
   },
   "outputs": [],
   "source": [
    "def time_converter(input_string):\n",
    "    ##orig_date = input_string[:-10] + input_string[-4:]\n",
    "    ##convert = time.strptime(orig_date, '%a %b %d %H:%M:%S %Y')\n",
    "    ##new_time = time.strftime(\"%A %I %p\",convert)\n",
    "    new_date = str(input_string[4:10])\n",
    "    new_hour = str(input_string[11:13])\n",
    "    return new_date, new_hour"
   ]
  },
  {
   "cell_type": "code",
   "execution_count": 197,
   "metadata": {
    "collapsed": false
   },
   "outputs": [
    {
     "name": "stdout",
     "output_type": "stream",
     "text": [
      "('Oct 13', '17')\n",
      "('Oct 07', '23')\n"
     ]
    }
   ],
   "source": [
    "print time_converter('Tue Oct 13 17:08:31 +0000 2015')\n",
    "print time_converter(all_tweets.loc[16,'time'])"
   ]
  },
  {
   "cell_type": "code",
   "execution_count": 200,
   "metadata": {
    "collapsed": false
   },
   "outputs": [],
   "source": [
    "for row in all_tweets.itertuples():\n",
    "    idx = int(row[0])\n",
    "    new_time = time_converter(all_tweets.loc[idx,'time'])\n",
    "    all_tweets.loc[idx,'Date'] = str(new_time[0])\n",
    "    all_tweets.loc[idx,'Hour'] = float(new_time[1])"
   ]
  },
  {
   "cell_type": "code",
   "execution_count": 261,
   "metadata": {
    "collapsed": false
   },
   "outputs": [
    {
     "data": {
      "text/html": [
       "<div>\n",
       "<table border=\"1\" class=\"dataframe\">\n",
       "  <thead>\n",
       "    <tr style=\"text-align: right;\">\n",
       "      <th></th>\n",
       "      <th>content</th>\n",
       "      <th>lat</th>\n",
       "      <th>lon</th>\n",
       "      <th>time</th>\n",
       "      <th>category</th>\n",
       "      <th>Time</th>\n",
       "      <th>Date</th>\n",
       "      <th>Hour</th>\n",
       "      <th>Month</th>\n",
       "    </tr>\n",
       "  </thead>\n",
       "  <tbody>\n",
       "    <tr>\n",
       "      <th>0</th>\n",
       "      <td>االووو</td>\n",
       "      <td>46.7412</td>\n",
       "      <td>24.6219</td>\n",
       "      <td>Wed Oct 07 23:37:23</td>\n",
       "      <td>none</td>\n",
       "      <td>23:37:23</td>\n",
       "      <td>Oct 07</td>\n",
       "      <td>23</td>\n",
       "      <td>Oct</td>\n",
       "    </tr>\n",
       "    <tr>\n",
       "      <th>1</th>\n",
       "      <td>@i_Mjeed خير ان شاء الله مابقى شي 😂</td>\n",
       "      <td>46.6996</td>\n",
       "      <td>24.5557</td>\n",
       "      <td>Wed Oct 07 23:38:12</td>\n",
       "      <td>none</td>\n",
       "      <td>23:38:12</td>\n",
       "      <td>Oct 07</td>\n",
       "      <td>23</td>\n",
       "      <td>Oct</td>\n",
       "    </tr>\n",
       "    <tr>\n",
       "      <th>2</th>\n",
       "      <td>\"@bafadel78: تمر الحياة بين حلم وأمنية ولايحدث...</td>\n",
       "      <td>46.6361</td>\n",
       "      <td>24.6053</td>\n",
       "      <td>Wed Oct 07 23:39:12</td>\n",
       "      <td>transit</td>\n",
       "      <td>23:39:12</td>\n",
       "      <td>Oct 07</td>\n",
       "      <td>23</td>\n",
       "      <td>Oct</td>\n",
       "    </tr>\n",
       "    <tr>\n",
       "      <th>3</th>\n",
       "      <td>اللهم افتح لنا أبواب السعادة والرضا.\\nواجعل ما...</td>\n",
       "      <td>46.6361</td>\n",
       "      <td>24.6053</td>\n",
       "      <td>Wed Oct 07 23:39:37</td>\n",
       "      <td>none</td>\n",
       "      <td>23:39:37</td>\n",
       "      <td>Oct 07</td>\n",
       "      <td>23</td>\n",
       "      <td>Oct</td>\n",
       "    </tr>\n",
       "    <tr>\n",
       "      <th>4</th>\n",
       "      <td>'قدروا' الآن نشط في Saudi Arabia http://t.co/y...</td>\n",
       "      <td>46.7224</td>\n",
       "      <td>24.688</td>\n",
       "      <td>Wed Oct 07 23:40:17</td>\n",
       "      <td>none</td>\n",
       "      <td>23:40:17</td>\n",
       "      <td>Oct 07</td>\n",
       "      <td>23</td>\n",
       "      <td>Oct</td>\n",
       "    </tr>\n",
       "  </tbody>\n",
       "</table>\n",
       "</div>"
      ],
      "text/plain": [
       "                                             content      lat      lon  \\\n",
       "0                                             االووو  46.7412  24.6219   \n",
       "1               @i_Mjeed خير ان شاء الله مابقى شي 😂  46.6996  24.5557   \n",
       "2  \"@bafadel78: تمر الحياة بين حلم وأمنية ولايحدث...  46.6361  24.6053   \n",
       "3  اللهم افتح لنا أبواب السعادة والرضا.\\nواجعل ما...  46.6361  24.6053   \n",
       "4  'قدروا' الآن نشط في Saudi Arabia http://t.co/y...  46.7224   24.688   \n",
       "\n",
       "                  time category      Time    Date Hour Month  \n",
       "0  Wed Oct 07 23:37:23     none  23:37:23  Oct 07   23   Oct  \n",
       "1  Wed Oct 07 23:38:12     none  23:38:12  Oct 07   23   Oct  \n",
       "2  Wed Oct 07 23:39:12  transit  23:39:12  Oct 07   23   Oct  \n",
       "3  Wed Oct 07 23:39:37     none  23:39:37  Oct 07   23   Oct  \n",
       "4  Wed Oct 07 23:40:17     none  23:40:17  Oct 07   23   Oct  "
      ]
     },
     "execution_count": 261,
     "metadata": {},
     "output_type": "execute_result"
    }
   ],
   "source": [
    "all_tweets.head(5)"
   ]
  },
  {
   "cell_type": "code",
   "execution_count": 203,
   "metadata": {
    "collapsed": true
   },
   "outputs": [],
   "source": [
    "all_tweets.to_csv('all_tweets.csv', index=False, encoding='utf-8')"
   ]
  },
  {
   "cell_type": "code",
   "execution_count": 205,
   "metadata": {
    "collapsed": false
   },
   "outputs": [
    {
     "data": {
      "text/plain": [
       "540"
      ]
     },
     "execution_count": 205,
     "metadata": {},
     "output_type": "execute_result"
    }
   ],
   "source": [
    "import pandas as pd\n",
    "import numpy as np\n",
    "np.sum(df['category'] == \"transit\")"
   ]
  },
  {
   "cell_type": "code",
   "execution_count": 231,
   "metadata": {
    "collapsed": false
   },
   "outputs": [
    {
     "name": "stdout",
     "output_type": "stream",
     "text": [
      "Date\n",
      "Oct 07       20\n",
      "Oct 08    19729\n",
      "Oct 09    13113\n",
      "Oct 10     1484\n",
      "dtype: int64\n"
     ]
    },
    {
     "data": {
      "text/plain": [
       "Counter({'Oct 07': 20, 'Oct 08': 19729, 'Oct 09': 13113, 'Oct 10': 1484})"
      ]
     },
     "execution_count": 231,
     "metadata": {},
     "output_type": "execute_result"
    }
   ],
   "source": [
    "df = all_tweets\n",
    "# Group the edges by their source\n",
    "grouped_sources = df['Hour'].groupby(df['Date'])\n",
    "## count and combine\n",
    "edges_per_node = grouped_sources.count()\n",
    "print edges_per_node\n",
    "\n",
    "from collections import Counter\n",
    "Counter(df['Date'])"
   ]
  },
  {
   "cell_type": "code",
   "execution_count": 262,
   "metadata": {
    "collapsed": false
   },
   "outputs": [
    {
     "data": {
      "text/html": [
       "<div>\n",
       "<table border=\"1\" class=\"dataframe\">\n",
       "  <thead>\n",
       "    <tr style=\"text-align: right;\">\n",
       "      <th></th>\n",
       "      <th>Oct 07</th>\n",
       "      <th>Oct 08</th>\n",
       "      <th>Oct 09</th>\n",
       "      <th>Oct 10</th>\n",
       "    </tr>\n",
       "  </thead>\n",
       "  <tbody>\n",
       "    <tr>\n",
       "      <th>0</th>\n",
       "      <td>0</td>\n",
       "      <td>20</td>\n",
       "      <td>576</td>\n",
       "      <td>407</td>\n",
       "    </tr>\n",
       "    <tr>\n",
       "      <th>1</th>\n",
       "      <td>0</td>\n",
       "      <td>21</td>\n",
       "      <td>720</td>\n",
       "      <td>312</td>\n",
       "    </tr>\n",
       "    <tr>\n",
       "      <th>2</th>\n",
       "      <td>0</td>\n",
       "      <td>6</td>\n",
       "      <td>632</td>\n",
       "      <td>685</td>\n",
       "    </tr>\n",
       "    <tr>\n",
       "      <th>3</th>\n",
       "      <td>0</td>\n",
       "      <td>506</td>\n",
       "      <td>983</td>\n",
       "      <td>80</td>\n",
       "    </tr>\n",
       "    <tr>\n",
       "      <th>4</th>\n",
       "      <td>0</td>\n",
       "      <td>765</td>\n",
       "      <td>734</td>\n",
       "      <td>0</td>\n",
       "    </tr>\n",
       "  </tbody>\n",
       "</table>\n",
       "</div>"
      ],
      "text/plain": [
       "   Oct 07  Oct 08  Oct 09  Oct 10\n",
       "0       0      20     576     407\n",
       "1       0      21     720     312\n",
       "2       0       6     632     685\n",
       "3       0     506     983      80\n",
       "4       0     765     734       0"
      ]
     },
     "execution_count": 262,
     "metadata": {},
     "output_type": "execute_result"
    }
   ],
   "source": [
    "df_new = pd.DataFrame()\n",
    "j=0\n",
    "for i in dict.keys(Counter(df['Date'])):\n",
    "    for j in range(0,24):\n",
    "        ##print i + \", \" + \"Hour: \" +str(j)\n",
    "        count= np.sum((df['Date']==i) & (df['Hour']== j))\n",
    "        ##print count\n",
    "        df_new.loc[j,i] = float(count)\n",
    "df_new.head(5)"
   ]
  },
  {
   "cell_type": "code",
   "execution_count": 263,
   "metadata": {
    "collapsed": false
   },
   "outputs": [],
   "source": [
    "df_new.to_csv('df_new.csv', index=False, encoding='utf-8')"
   ]
  },
  {
   "cell_type": "code",
   "execution_count": null,
   "metadata": {
    "collapsed": true
   },
   "outputs": [],
   "source": [
    "## End"
   ]
  },
  {
   "cell_type": "code",
   "execution_count": 99,
   "metadata": {
    "collapsed": false
   },
   "outputs": [
    {
     "name": "stdout",
     "output_type": "stream",
     "text": [
      "3503\n"
     ]
    }
   ],
   "source": [
    "all_tweets_categorized = all_tweets[all_tweets['category']!= 'none']\n",
    "print len(all_tweets_categorized)"
   ]
  },
  {
   "cell_type": "code",
   "execution_count": 104,
   "metadata": {
    "collapsed": false
   },
   "outputs": [
    {
     "data": {
      "text/html": [
       "<div>\n",
       "<table border=\"1\" class=\"dataframe\">\n",
       "  <thead>\n",
       "    <tr style=\"text-align: right;\">\n",
       "      <th></th>\n",
       "      <th>content</th>\n",
       "      <th>lat</th>\n",
       "      <th>lon</th>\n",
       "      <th>time</th>\n",
       "      <th>category</th>\n",
       "      <th>Time</th>\n",
       "      <th>Date</th>\n",
       "      <th>Hour</th>\n",
       "    </tr>\n",
       "  </thead>\n",
       "  <tbody>\n",
       "    <tr>\n",
       "      <th>0</th>\n",
       "      <td>\"@bafadel78: تمر الحياة بين حلم وأمنية ولايحدث...</td>\n",
       "      <td>46.6361</td>\n",
       "      <td>24.6053</td>\n",
       "      <td>Wed Oct 07 23:39:12</td>\n",
       "      <td>transit</td>\n",
       "      <td>23:39:12</td>\n",
       "      <td>Oct 07</td>\n",
       "      <td>23:39:12</td>\n",
       "    </tr>\n",
       "    <tr>\n",
       "      <th>1</th>\n",
       "      <td>لا تفضح مسلماً وقع في معصيه ! فإن باب التوبه م...</td>\n",
       "      <td>46.532</td>\n",
       "      <td>24.6356</td>\n",
       "      <td>Thu Oct 08 01:25:01</td>\n",
       "      <td>prayer</td>\n",
       "      <td>01:25:01</td>\n",
       "      <td>Oct 08</td>\n",
       "      <td>01:25:01</td>\n",
       "    </tr>\n",
       "    <tr>\n",
       "      <th>2</th>\n",
       "      <td>اللهم سر خاطري بكل جميل\\nانك على كل شئ قدير .....</td>\n",
       "      <td>46.5834</td>\n",
       "      <td>24.5621</td>\n",
       "      <td>Thu Oct 08 01:43:17</td>\n",
       "      <td>prayer</td>\n",
       "      <td>01:43:17</td>\n",
       "      <td>Oct 08</td>\n",
       "      <td>01:43:17</td>\n",
       "    </tr>\n",
       "    <tr>\n",
       "      <th>3</th>\n",
       "      <td>صلاة الفجر جزاكم الله خير</td>\n",
       "      <td>46.7491</td>\n",
       "      <td>24.6165</td>\n",
       "      <td>Thu Oct 08 01:50:47</td>\n",
       "      <td>prayer</td>\n",
       "      <td>01:50:47</td>\n",
       "      <td>Oct 08</td>\n",
       "      <td>01:50:47</td>\n",
       "    </tr>\n",
       "    <tr>\n",
       "      <th>4</th>\n",
       "      <td>اللهم صلى وسلم على سيدنا محمد</td>\n",
       "      <td>46.6664</td>\n",
       "      <td>24.6741</td>\n",
       "      <td>Thu Oct 08 02:09:17</td>\n",
       "      <td>prayer</td>\n",
       "      <td>02:09:17</td>\n",
       "      <td>Oct 08</td>\n",
       "      <td>02:09:17</td>\n",
       "    </tr>\n",
       "  </tbody>\n",
       "</table>\n",
       "</div>"
      ],
      "text/plain": [
       "                                             content      lat      lon  \\\n",
       "0  \"@bafadel78: تمر الحياة بين حلم وأمنية ولايحدث...  46.6361  24.6053   \n",
       "1  لا تفضح مسلماً وقع في معصيه ! فإن باب التوبه م...   46.532  24.6356   \n",
       "2  اللهم سر خاطري بكل جميل\\nانك على كل شئ قدير .....  46.5834  24.5621   \n",
       "3                          صلاة الفجر جزاكم الله خير  46.7491  24.6165   \n",
       "4                      اللهم صلى وسلم على سيدنا محمد  46.6664  24.6741   \n",
       "\n",
       "                  time category      Time    Date      Hour  \n",
       "0  Wed Oct 07 23:39:12  transit  23:39:12  Oct 07  23:39:12  \n",
       "1  Thu Oct 08 01:25:01   prayer  01:25:01  Oct 08  01:25:01  \n",
       "2  Thu Oct 08 01:43:17   prayer  01:43:17  Oct 08  01:43:17  \n",
       "3  Thu Oct 08 01:50:47   prayer  01:50:47  Oct 08  01:50:47  \n",
       "4  Thu Oct 08 02:09:17   prayer  02:09:17  Oct 08  02:09:17  "
      ]
     },
     "execution_count": 104,
     "metadata": {},
     "output_type": "execute_result"
    }
   ],
   "source": [
    "all_tweets_categorized.reset_index(inplace=True, drop=True)\n",
    "all_tweets_categorized.head()"
   ]
  },
  {
   "cell_type": "code",
   "execution_count": 102,
   "metadata": {
    "collapsed": false
   },
   "outputs": [],
   "source": [
    "all_tweets_categorized.to_csv('all_tweets_categorized.csv', index=False, encoding='utf-8')"
   ]
  }
 ],
 "metadata": {
  "kernelspec": {
   "display_name": "Python 2",
   "language": "python",
   "name": "python2"
  },
  "language_info": {
   "codemirror_mode": {
    "name": "ipython",
    "version": 2
   },
   "file_extension": ".py",
   "mimetype": "text/x-python",
   "name": "python",
   "nbconvert_exporter": "python",
   "pygments_lexer": "ipython2",
   "version": "2.7.11"
  }
 },
 "nbformat": 4,
 "nbformat_minor": 0
}
