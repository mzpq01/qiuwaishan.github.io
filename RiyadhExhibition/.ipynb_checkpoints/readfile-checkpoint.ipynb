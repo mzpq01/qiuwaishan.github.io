{
 "cells": [
  {
   "cell_type": "code",
   "execution_count": 12,
   "metadata": {
    "collapsed": false,
    "scrolled": true
   },
   "outputs": [
    {
     "name": "stdout",
     "output_type": "stream",
     "text": [
      "27\n",
      "Total Columns are: 97\n"
     ]
    }
   ],
   "source": [
    "### Read and write CSV file\n",
    "import pandas as pd\n",
    "import time\n",
    "import os\n",
    "import numpy as np\n",
    "path2 = 'prayer/'\n",
    "files = os.listdir(path2)\n",
    "all_files = []\n",
    "# print files\n",
    "for f in files:\n",
    "    if f.endswith(\".csv\"):\n",
    "        all_files.append(f)\n",
    "# print all_files\n",
    "count_files = len(all_files)\n",
    "print count_files\n",
    "df = pd.DataFrame()\n",
    "for filename in all_files:\n",
    "    ##print filename\n",
    "    new_path = \"prayer/\" + str(filename)\n",
    "    df0 = pd.read_csv(new_path)\n",
    "    df = df.append(df0.T)\n",
    "df.head()\n",
    "df = df.T\n",
    "df.drop(['Hour'], axis=1, inplace=True)\n",
    "df.head()\n",
    "print \"Total Columns are: \" + str(df.shape[1])"
   ]
  },
  {
   "cell_type": "code",
   "execution_count": 13,
   "metadata": {
    "collapsed": false
   },
   "outputs": [
    {
     "name": "stdout",
     "output_type": "stream",
     "text": [
      "['Nov 16', 'Nov 13', 'Dec 02', 'Nov 19', 'Oct 29', 'Nov 30', 'Dec 01', 'Oct 23', 'Oct 20', 'Dec 15', 'Dec 12', 'Nov 01', 'Nov 29', 'Nov 28', 'Nov 27', 'Nov 25', 'Nov 24', 'Nov 23', 'Nov 22', 'Nov 21', 'Oct 26', 'Dec 09', 'Dec 06', 'Oct 11', 'Oct 17', 'Oct 14', 'Dec 03', 'Nov 10']\n",
      "\n",
      "\n",
      "Duplicated Columns are: 28*2=56\n"
     ]
    }
   ],
   "source": [
    "from collections import Counter\n",
    "A = Counter(df.columns)\n",
    "Keys = dict.keys(A)\n",
    "Values = dict.values(A)\n",
    "# print Keys\n",
    "# print Values\n",
    "Dup_Keys =[]\n",
    "j=0\n",
    "## Must use df.copy() to copy a new dataframe. Simply rename does not work.\n",
    "df_clean = df.copy()\n",
    "df_new= pd.DataFrame()\n",
    "df_tmp= pd.DataFrame()\n",
    "for i in Values:\n",
    "    j=j+1\n",
    "    if i ==2:\n",
    "        Keys[j-1]\n",
    "        Dup_Keys.append(Keys[j-1])\n",
    "print Dup_Keys\n",
    "print \"\\n\"\n",
    "print \"Duplicated Columns are: \" + str(len(Dup_Keys)) + \"*2=56\""
   ]
  },
  {
   "cell_type": "code",
   "execution_count": 14,
   "metadata": {
    "collapsed": false
   },
   "outputs": [
    {
     "name": "stdout",
     "output_type": "stream",
     "text": [
      "Clean columns are: 41\n",
      "(24, 97)\n"
     ]
    }
   ],
   "source": [
    "df_clean.drop(Dup_Keys,axis=1,inplace=True)\n",
    "print \"Clean columns are: \" + str(df_clean.shape[1])\n",
    "print df.shape"
   ]
  },
  {
   "cell_type": "code",
   "execution_count": 15,
   "metadata": {
    "collapsed": false
   },
   "outputs": [
    {
     "name": "stdout",
     "output_type": "stream",
     "text": [
      "(24, 69)\n"
     ]
    }
   ],
   "source": [
    "for i in Dup_Keys:\n",
    "#     print i\n",
    "    df_tmp= df[i]\n",
    "    df_tmp.columns = ['a','b']\n",
    "    df_clean[i]=df_tmp['a']+df_tmp['b']\n",
    "print df_clean.shape"
   ]
  },
  {
   "cell_type": "code",
   "execution_count": 17,
   "metadata": {
    "collapsed": false
   },
   "outputs": [
    {
     "name": "stdout",
     "output_type": "stream",
     "text": [
      "Done\n"
     ]
    }
   ],
   "source": [
    "writer = pd.ExcelWriter('prayer_all.xlsx', engine='xlsxwriter')\n",
    "# Convert the dataframe to an XlsxWriter Excel object.\n",
    "df.to_excel(writer, sheet_name='Sheet1')\n",
    "# Close the Pandas Excel writer and output the Excel file.\n",
    "writer.save()\n",
    "df_clean.to_csv(\"prayer_all.csv\", index=True, header=True, encoding='utf-8')\n",
    "print \"Done\""
   ]
  }
 ],
 "metadata": {
  "kernelspec": {
   "display_name": "Python 2",
   "language": "python",
   "name": "python2"
  },
  "language_info": {
   "codemirror_mode": {
    "name": "ipython",
    "version": 2
   },
   "file_extension": ".py",
   "mimetype": "text/x-python",
   "name": "python",
   "nbconvert_exporter": "python",
   "pygments_lexer": "ipython2",
   "version": "2.7.11"
  }
 },
 "nbformat": 4,
 "nbformat_minor": 0
}
