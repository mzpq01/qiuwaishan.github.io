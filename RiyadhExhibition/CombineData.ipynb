{
 "cells": [
  {
   "cell_type": "code",
   "execution_count": 3,
   "metadata": {
    "collapsed": false,
    "scrolled": true
   },
   "outputs": [
    {
     "name": "stdout",
     "output_type": "stream",
     "text": [
      "The Total Number of files need to read is: 28\n",
      "Total Columns are: 119\n"
     ]
    }
   ],
   "source": [
    "### Read and write CSV file\n",
    "import pandas as pd\n",
    "import time\n",
    "import os\n",
    "import numpy as np\n",
    "path = 'all_tweets/'\n",
    "files = os.listdir(path)\n",
    "all_files = []\n",
    "# print files\n",
    "for f in files:\n",
    "    if f.endswith(\".csv\"):\n",
    "        all_files.append(f)\n",
    "# print all_files\n",
    "count_files = len(all_files)\n",
    "print \"The Total Number of files need to read is: \" + str(count_files)\n",
    "df = pd.DataFrame()\n",
    "for filename in all_files:\n",
    "    ##print filename\n",
    "    new_path = \"all_tweets/\" + str(filename)\n",
    "    df0 = pd.read_csv(new_path)\n",
    "    df = df.append(df0.T)\n",
    "df.head()\n",
    "df = df.T\n",
    "df.drop(['Hour'], axis=1, inplace=True)\n",
    "df.head()\n",
    "print \"Total Columns are: \" + str(df.shape[1])"
   ]
  },
  {
   "cell_type": "code",
   "execution_count": 14,
   "metadata": {
    "collapsed": false
   },
   "outputs": [
    {
     "name": "stdout",
     "output_type": "stream",
     "text": [
      "Counter({'Oct 23': 2, 'Oct 20': 2, 'Oct 26': 2, 'Oct 29': 2, 'Dec 09': 2, 'Dec 06': 2, 'Dec 02': 2, 'Dec 01': 2, 'Nov 16': 2, 'Nov 15': 2, 'Nov 13': 2, 'Nov 10': 2, 'Nov 19': 2, 'Dec 15': 2, 'Dec 12': 2, 'Nov 04': 2, 'Nov 07': 2, 'Nov 01': 2, 'Nov 09': 2, 'Nov 30': 2, 'Oct 17': 2, 'Dec 03': 2, 'Oct 14': 2, 'Nov 29': 2, 'Nov 28': 2, 'Nov 27': 2, 'Nov 26': 2, 'Nov 25': 2, 'Nov 24': 2, 'Nov 23': 2, 'Nov 22': 2, 'Nov 21': 2, '12-Oct': 1, '8-Oct': 1, 'Oct 22': 1, 'Oct 21': 1, 'Oct 27': 1, 'Oct 24': 1, 'Oct 25': 1, 'Oct 28': 1, '18-Oct': 1, 'Oct 31': 1, 'Oct 30': 1, '13-Oct': 1, '14-Oct.1': 1, '14-Oct.2': 1, '15-Oct': 1, '20-Oct': 1, '16-Oct': 1, 'Oct 19': 1, 'Oct 18': 1, 'Dec 08': 1, 'Oct 12': 1, 'Oct 11': 1, 'Dec 05': 1, 'Oct 16': 1, 'Oct 15': 1, 'Nov 17': 1, 'Nov 14': 1, 'Nov 12': 1, 'Nov 11': 1, '11-Oct': 1, '10-Oct': 1, 'Nov 18': 1, 'Dec 14': 1, 'Dec 17': 1, 'Dec 16': 1, 'Dec 11': 1, 'Dec 10': 1, 'Dec 13': 1, '11-Oct.1': 1, '11-Oct.2': 1, 'Nov 05': 1, 'Nov 06': 1, 'Nov 03': 1, 'Nov 02': 1, 'Nov 08': 1, '17-Oct': 1, '19-Oct': 1, 'Dec 07': 1, 'Dec 04': 1, '14-Oct': 1, '17-Oct.2': 1, '17-Oct.1': 1, '9-Oct': 1, 'Nov 20': 1, 'Oct 13': 1})\n",
      "\n",
      "\n",
      "['Oct 23', 'Oct 20', 'Oct 26', 'Oct 29', 'Dec 09', 'Dec 06', 'Dec 02', 'Dec 01', 'Nov 16', 'Nov 15', 'Nov 13', 'Nov 10', 'Nov 19', 'Dec 15', 'Dec 12', 'Nov 04', 'Nov 07', 'Nov 01', 'Nov 09', 'Nov 30', 'Oct 17', 'Dec 03', 'Oct 14', 'Nov 29', 'Nov 28', 'Nov 27', 'Nov 26', 'Nov 25', 'Nov 24', 'Nov 23', 'Nov 22', 'Nov 21']\n",
      "\n",
      "\n",
      "Duplicated Columns are: 32*2\n"
     ]
    }
   ],
   "source": [
    "from collections import Counter\n",
    "A = Counter(df.columns)\n",
    "print A\n",
    "print \"\\n\"\n",
    "Keys = dict.keys(A)\n",
    "Values = dict.values(A)\n",
    "# print Keys\n",
    "# print Values\n",
    "Dup_Keys =[]\n",
    "j=0\n",
    "## Must use df.copy() to copy a new dataframe. Simply rename does not work.\n",
    "df_clean = df.copy()\n",
    "df_new= pd.DataFrame()\n",
    "df_tmp= pd.DataFrame()\n",
    "for i in Values:\n",
    "    j=j+1\n",
    "    if i ==2:\n",
    "        Keys[j-1]\n",
    "        Dup_Keys.append(Keys[j-1])\n",
    "print Dup_Keys\n",
    "print \"\\n\"\n",
    "print \"Duplicated Columns are: \" + str(len(Dup_Keys)) + \"*2\""
   ]
  },
  {
   "cell_type": "code",
   "execution_count": 6,
   "metadata": {
    "collapsed": false
   },
   "outputs": [
    {
     "name": "stdout",
     "output_type": "stream",
     "text": [
      "Clean columns are: 55\n",
      "(24, 119)\n"
     ]
    }
   ],
   "source": [
    "df_clean.drop(Dup_Keys,axis=1,inplace=True)\n",
    "print \"Clean columns are: \" + str(df_clean.shape[1])\n",
    "print df.shape"
   ]
  },
  {
   "cell_type": "code",
   "execution_count": 7,
   "metadata": {
    "collapsed": false
   },
   "outputs": [
    {
     "name": "stdout",
     "output_type": "stream",
     "text": [
      "(24, 87)\n"
     ]
    }
   ],
   "source": [
    "for i in Dup_Keys:\n",
    "#     print i\n",
    "    df_tmp= df[i]\n",
    "    df_tmp.columns = ['a','b']\n",
    "    df_clean[i]=df_tmp['a']+df_tmp['b']\n",
    "print df_clean.shape"
   ]
  },
  {
   "cell_type": "code",
   "execution_count": 11,
   "metadata": {
    "collapsed": false
   },
   "outputs": [
    {
     "name": "stdout",
     "output_type": "stream",
     "text": [
      "Done\n"
     ]
    }
   ],
   "source": [
    "writer = pd.ExcelWriter('tweets_all.xlsx', engine='xlsxwriter')\n",
    "# Convert the dataframe to an XlsxWriter Excel object.\n",
    "df_clean.to_excel(writer, sheet_name='Sheet1')\n",
    "# Close the Pandas Excel writer and output the Excel file.\n",
    "writer.save()\n",
    "df_clean.to_csv(\"prayer_all.csv\", index=True, header=True, encoding='utf-8')\n",
    "print \"Done\""
   ]
  }
 ],
 "metadata": {
  "kernelspec": {
   "display_name": "Python 2",
   "language": "python",
   "name": "python2"
  },
  "language_info": {
   "codemirror_mode": {
    "name": "ipython",
    "version": 2
   },
   "file_extension": ".py",
   "mimetype": "text/x-python",
   "name": "python",
   "nbconvert_exporter": "python",
   "pygments_lexer": "ipython2",
   "version": "2.7.11"
  }
 },
 "nbformat": 4,
 "nbformat_minor": 0
}
