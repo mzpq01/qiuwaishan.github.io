{
 "cells": [
  {
   "cell_type": "code",
   "execution_count": 1,
   "metadata": {
    "collapsed": true
   },
   "outputs": [],
   "source": [
    "# Import some libraries\n",
    "import networkx as nx\n",
    "import matplotlib.pyplot as plt\n",
    "import numpy as np\n",
    "import pandas as pd\n",
    "# Import Seaborn\n",
    "import seaborn as sns\n",
    "\n",
    "# This allows plots to appear on the IPython notebook.\n",
    "%matplotlib inline"
   ]
  },
  {
   "cell_type": "code",
   "execution_count": 3,
   "metadata": {
    "collapsed": false
   },
   "outputs": [
    {
     "data": {
      "text/html": [
       "<div>\n",
       "<table border=\"1\" class=\"dataframe\">\n",
       "  <thead>\n",
       "    <tr style=\"text-align: right;\">\n",
       "      <th></th>\n",
       "      <th>source</th>\n",
       "      <th>target</th>\n",
       "      <th>volume</th>\n",
       "      <th>capacity</th>\n",
       "      <th>voc</th>\n",
       "      <th>degree</th>\n",
       "      <th>free_travel_time</th>\n",
       "      <th>travel_time</th>\n",
       "    </tr>\n",
       "    <tr>\n",
       "      <th>eid</th>\n",
       "      <th></th>\n",
       "      <th></th>\n",
       "      <th></th>\n",
       "      <th></th>\n",
       "      <th></th>\n",
       "      <th></th>\n",
       "      <th></th>\n",
       "      <th></th>\n",
       "    </tr>\n",
       "  </thead>\n",
       "  <tbody>\n",
       "    <tr>\n",
       "      <th>101</th>\n",
       "      <td>1</td>\n",
       "      <td>2</td>\n",
       "      <td>67.2220</td>\n",
       "      <td>2850</td>\n",
       "      <td>0.023587</td>\n",
       "      <td>158</td>\n",
       "      <td>0.268594</td>\n",
       "      <td>0.268594</td>\n",
       "    </tr>\n",
       "    <tr>\n",
       "      <th>20415</th>\n",
       "      <td>1</td>\n",
       "      <td>5748</td>\n",
       "      <td>53.1765</td>\n",
       "      <td>2850</td>\n",
       "      <td>0.018658</td>\n",
       "      <td>108</td>\n",
       "      <td>1.238560</td>\n",
       "      <td>1.238560</td>\n",
       "    </tr>\n",
       "    <tr>\n",
       "      <th>14254</th>\n",
       "      <td>1</td>\n",
       "      <td>9437</td>\n",
       "      <td>262.0150</td>\n",
       "      <td>2850</td>\n",
       "      <td>0.091935</td>\n",
       "      <td>406</td>\n",
       "      <td>1.354030</td>\n",
       "      <td>1.354040</td>\n",
       "    </tr>\n",
       "  </tbody>\n",
       "</table>\n",
       "</div>"
      ],
      "text/plain": [
       "       source  target    volume  capacity       voc  degree  free_travel_time  \\\n",
       "eid                                                                             \n",
       "101         1       2   67.2220      2850  0.023587     158          0.268594   \n",
       "20415       1    5748   53.1765      2850  0.018658     108          1.238560   \n",
       "14254       1    9437  262.0150      2850  0.091935     406          1.354030   \n",
       "\n",
       "       travel_time  \n",
       "eid                 \n",
       "101       0.268594  \n",
       "20415     1.238560  \n",
       "14254     1.354040  "
      ]
     },
     "execution_count": 3,
     "metadata": {},
     "output_type": "execute_result"
    }
   ],
   "source": [
    "df = pd.read_csv(\"data/riyadh_route_edges_am.txt\", sep=\" \", index_col=0)\n",
    "df.head(3)"
   ]
  },
  {
   "cell_type": "code",
   "execution_count": 9,
   "metadata": {
    "collapsed": false
   },
   "outputs": [],
   "source": [
    "# Let's define an empty undirected graph.\n",
    "RG = nx.Graph()\n",
    "\n",
    "# We also define the values for the edge attributes\n",
    "keys = ['volume', 'capacity', 'voc', 'degree', 'free_travel_time', 'travel_time']\n",
    "i = 0\n",
    "for row in df.itertuples(index=False):    \n",
    "    i +=1\n",
    "    # If we use all the nodes, plotting the network takes a very long time!\n",
    "    if i < 3000:\n",
    "        values = row[2:]\n",
    "        # We create a dictionary with the keys and row values\n",
    "        edge_attributes = dict(zip(keys, values))\n",
    "        my_tuple = (row[0], row[1])\n",
    "        # We add the edge to the graph\n",
    "        RG.add_edge(*my_tuple, attr_dict=edge_attributes)\n",
    "# Analysis the degrees use nx.degree() function        \n",
    "degrees = nx.degree(RG)\n",
    "\n",
    "# ***Remember to cancel this when you change i to large numbers. This is only for test print the variables.***\n",
    "    ####print edge_attributes\n",
    "    ##{'capacity': 2850, 'degree': 108, 'voc': 0.018658399999999999, 'volume': 53.176499999999997, \n",
    "    ##'travel_time': 1.2385600000000001, 'free_travel_time': 1.2385600000000001}\n",
    "    ####print values\n",
    "    #(53.176499999999997, 2850, 0.018658399999999999, 108, 1.2385600000000001, 1.2385600000000001)\n",
    "    ####print degrees\n",
    "    ##{1: 2, 2: 1, 5748: 1}\""
   ]
  },
  {
   "cell_type": "code",
   "execution_count": 5,
   "metadata": {
    "collapsed": false
   },
   "outputs": [],
   "source": [
    "# Plotting might take a bit! We can stand up and stretch for a bit!\n",
    "\n",
    "###plt.figure(figsize=(4,4))\n",
    "###P = nx.spring_layout(RG)\n",
    "    \n",
    "#  Here we multiply the degree value times 10 to see the difference in size on our plot.\n",
    "###node_sizes = [v * 5 for v in degrees.values()]\n",
    "###node_colors = range(len(RG.nodes()))\n",
    "###print node_colors\n",
    "###nx.draw(RG, pos=P, node_size=node_sizes, width=.5, node_color=node_colors);"
   ]
  },
  {
   "cell_type": "code",
   "execution_count": 11,
   "metadata": {
    "collapsed": false
   },
   "outputs": [
    {
     "name": "stdout",
     "output_type": "stream",
     "text": [
      "*Is the road network connected? False *All Paths starting from Node '1':\n",
      "{1: [1], 2: [1, 2], 7438: [1, 2, 7438], 2479: [1, 2, 7438, 120, 4126, 712, 713, 2479], 8348: [1, 2, 7438, 120, 466, 8348], 4125: [1, 2, 7438, 338, 4125], 4126: [1, 2, 7438, 120, 4126], 1441: [1, 2, 7438, 120, 119, 1441], 1442: [1, 2, 7438, 120, 4126, 712, 713, 1442], 2735: [1, 2, 7438, 120, 4126, 712, 713, 2735], 712: [1, 2, 7438, 120, 4126, 712], 713: [1, 2, 7438, 120, 4126, 712, 713], 466: [1, 2, 7438, 120, 466], 339: [1, 2, 7438, 338, 339], 3670: [1, 2, 7438, 120, 466, 3670], 9437: [1, 9437], 9950: [1, 2, 9950], 4961: [1, 2, 7438, 120, 119, 4961], 338: [1, 2, 7438, 338], 5748: [1, 5748], 119: [1, 2, 7438, 120, 119], 120: [1, 2, 7438, 120], 4858: [1, 2, 7438, 338, 4858], 7931: [1, 2, 7438, 120, 7931]}\n",
      "\n",
      "\n",
      "Count Paths (length) from Node'1' to Node'9950': 3\n",
      "Namely: [1, 2, 9950]\n"
     ]
    }
   ],
   "source": [
    "# If I pick any two intersections, is it possible to find a route\n",
    "# between them? Check if the network is connected.\n",
    "print \"*Is the road network connected? \"+ str(nx.is_connected(RG)),\n",
    "\n",
    "# Here we generate all the shortest paths from the graph. Records in Dictionary \"paths\"\n",
    "paths = nx.shortest_path(RG)\n",
    "\n",
    "# Since all the paths are stored in a big dictionary, we can access the shortest path of every node by its index or name!\n",
    "# We can start by printing all the paths from node_id 1\n",
    "print \"*All Paths starting from Node '1':\"\n",
    "print str(paths[1]) ## \\\"paths\\\" is a dictionary with format of {node_id:}\n",
    "print \"\\n\"\n",
    "\n",
    "\n",
    "# Since within node_id 1, it connects to node_id 9950, we can count the number of nodes that exist between both\n",
    "print \"Count Paths (length) from Node'1' to Node'9950': \" + str(len(paths[1][9950]))\n",
    "print \"Namely: \" + str(paths[1][9950])"
   ]
  },
  {
   "cell_type": "code",
   "execution_count": 12,
   "metadata": {
    "collapsed": false
   },
   "outputs": [
    {
     "name": "stdout",
     "output_type": "stream",
     "text": [
      "* Total Nodes Numbers read is: 10728\n",
      "\n"
     ]
    },
    {
     "data": {
      "text/html": [
       "<div>\n",
       "<table border=\"1\" class=\"dataframe\">\n",
       "  <thead>\n",
       "    <tr style=\"text-align: right;\">\n",
       "      <th></th>\n",
       "      <th>id</th>\n",
       "      <th>st_x</th>\n",
       "      <th>st_y</th>\n",
       "    </tr>\n",
       "  </thead>\n",
       "  <tbody>\n",
       "    <tr>\n",
       "      <th>0</th>\n",
       "      <td>1</td>\n",
       "      <td>46.849302</td>\n",
       "      <td>24.701475</td>\n",
       "    </tr>\n",
       "    <tr>\n",
       "      <th>1</th>\n",
       "      <td>2</td>\n",
       "      <td>46.848467</td>\n",
       "      <td>24.702946</td>\n",
       "    </tr>\n",
       "    <tr>\n",
       "      <th>2</th>\n",
       "      <td>3</td>\n",
       "      <td>46.632126</td>\n",
       "      <td>24.798601</td>\n",
       "    </tr>\n",
       "  </tbody>\n",
       "</table>\n",
       "</div>"
      ],
      "text/plain": [
       "   id       st_x       st_y\n",
       "0   1  46.849302  24.701475\n",
       "1   2  46.848467  24.702946\n",
       "2   3  46.632126  24.798601"
      ]
     },
     "execution_count": 12,
     "metadata": {},
     "output_type": "execute_result"
    }
   ],
   "source": [
    "# Import json, Read riyadh network node data to get st_x, st_y (Lng, Lat)\n",
    "import json\n",
    "Nodes = pd.read_csv(\"data/riyadh_nodes.txt\", sep=\" \") ## <nrows> define the total rows that are read\n",
    "print \"* Total Nodes Numbers read is: \" + str(len(Nodes)) + \"\\n\"\n",
    "Nodes.head(3)"
   ]
  },
  {
   "cell_type": "code",
   "execution_count": 13,
   "metadata": {
    "collapsed": false
   },
   "outputs": [
    {
     "name": "stdout",
     "output_type": "stream",
     "text": [
      "Length of dict 'Coordinate': 10728\n",
      "[46.912201567778098, 24.551144860641898]\n"
     ]
    }
   ],
   "source": [
    "# Now construct the multi-tier dictionary structures.\n",
    "# Build the 1st tier dictionary, called \\\"geoDataSet\\\".\\n\",\n",
    "geoDataSet  = {}\n",
    "geoDataSet[\"type\"] = \"FeatureCollection\"\n",
    "geoDataSet[\"features\"] = []\n",
    "\n",
    "# Build a dictionary \"Coordinate\" {id:[st_x,st_y]} that join node id with st_x and st_y. \n",
    "Coordinate = {}\n",
    "for i in range(len(Nodes[\"id\"])):  # i =0,1,2,...    \n",
    "    idx = Nodes[\"id\"][i]           # idx = 1,2,3,... In fact 'idx' is 'id' in dataframe \"Nodes\"\n",
    "    Coordinate[idx]=[Nodes[\"st_x\"][i],Nodes[\"st_y\"][i]]\n",
    "\n",
    "print \"Length of dict 'Coordinate': \" + str(len(Coordinate)) ## Test Print\n",
    "print Coordinate[50]  ## Test Print\""
   ]
  },
  {
   "cell_type": "code",
   "execution_count": 14,
   "metadata": {
    "collapsed": false
   },
   "outputs": [
    {
     "ename": "KeyError",
     "evalue": "1268",
     "output_type": "error",
     "traceback": [
      "\u001b[0;31m---------------------------------------------------------------------------\u001b[0m",
      "\u001b[0;31mKeyError\u001b[0m                                  Traceback (most recent call last)",
      "\u001b[0;32m<ipython-input-14-d3afc5401b75>\u001b[0m in \u001b[0;36m<module>\u001b[0;34m()\u001b[0m\n\u001b[1;32m      2\u001b[0m     \u001b[0mid_o\u001b[0m \u001b[0;34m=\u001b[0m \u001b[0mNodes\u001b[0m\u001b[0;34m[\u001b[0m\u001b[0;34m\"id\"\u001b[0m\u001b[0;34m]\u001b[0m\u001b[0;34m[\u001b[0m\u001b[0mi\u001b[0m\u001b[0;34m]\u001b[0m                  \u001b[0;31m# idx = 1,2,3,... In fact 'idx' is 'id' of dataframe \"Nodes\"\u001b[0m\u001b[0;34m\u001b[0m\u001b[0m\n\u001b[1;32m      3\u001b[0m     \u001b[0;31m###print \"1* When i= \"+str(i)+ \", Orientation Node= \"+str(id_o)\u001b[0m\u001b[0;34m\u001b[0m\u001b[0;34m\u001b[0m\u001b[0m\n\u001b[0;32m----> 4\u001b[0;31m     \u001b[0msteps\u001b[0m \u001b[0;34m=\u001b[0m \u001b[0mlen\u001b[0m\u001b[0;34m(\u001b[0m\u001b[0mpaths\u001b[0m\u001b[0;34m[\u001b[0m\u001b[0mid_o\u001b[0m\u001b[0;34m]\u001b[0m\u001b[0;34m.\u001b[0m\u001b[0mkeys\u001b[0m\u001b[0;34m(\u001b[0m\u001b[0;34m)\u001b[0m\u001b[0;34m)\u001b[0m  \u001b[0;31m# Count how many successful lines connected to a node, including itself\u001b[0m\u001b[0;34m\u001b[0m\u001b[0m\n\u001b[0m\u001b[1;32m      5\u001b[0m     \u001b[0;32mif\u001b[0m \u001b[0msteps\u001b[0m \u001b[0;34m>\u001b[0m\u001b[0;36m1\u001b[0m\u001b[0;34m:\u001b[0m\u001b[0;34m\u001b[0m\u001b[0m\n\u001b[1;32m      6\u001b[0m         \u001b[0;31m###print \"2* All Paths to Ori_node are \"+str(paths[id_o])  # when idx=1, len(paths[idx])=3\u001b[0m\u001b[0;34m\u001b[0m\u001b[0;34m\u001b[0m\u001b[0m\n",
      "\u001b[0;31mKeyError\u001b[0m: 1268"
     ]
    }
   ],
   "source": [
    "for i in range(len(Coordinate)):         # i =0,1,2,...,    \n",
    "    id_o = Nodes[\"id\"][i]                  # idx = 1,2,3,... In fact 'idx' is 'id' of dataframe \"Nodes\"\n",
    "    ###print \"1* When i= \"+str(i)+ \", Orientation Node= \"+str(id_o)\n",
    "    steps = len(paths[id_o].keys())  # Count how many successful lines connected to a node, including itself\n",
    "    if steps >1:\n",
    "        ###print \"2* All Paths to Ori_node are \"+str(paths[id_o])  # when idx=1, len(paths[idx])=3\n",
    "        ###print len(paths[idx].keys())       # when idx=1, len(path[idx].keys())=3\n",
    "        destination = [] # Define a list \"destination\" [] that use to record all the destinations\n",
    "        #print paths[idx]\n",
    "        #print Coordinate[idx]\n",
    "\n",
    "        ## Get all the nodes id that connect with node i.\n",
    "        for key in paths[id_o]: # when idx=1,paths[1]={1:[1],2:[1, 2],5748:[1, 5748]}, key=1,then 2,then 5748       \n",
    "            destination.append(key)               \n",
    "        ###print \"3* Total destination is\"+ str(destination)+\"\\n\"\n",
    "\n",
    "        for index in range(steps):        \n",
    "            id_des = destination[index]\n",
    "            ###print \"4.1** When index= \" + str(index)+\"， Destination Node= \" + str(id_des)\n",
    "            tmp_dict = {}\n",
    "            tmp_dict[\"type\"] = \"Feature\"\n",
    "            tmp_dict[\"geometry\"] = {}\n",
    "            tmp_dict[\"geometry\"][\"type\"] = \"LineString\"\n",
    "            tmp_dict[\"geometry\"][\"coordinates\"] = []        \n",
    "            tmp_coor=[Coordinate[id_o]] ## Already insert one origin point to avoid single point situation\n",
    "            ##print \"4.2** O_Node_\"+str(id_des) +\"'s coordination is\"+ str(Coordinate[id_o])     \n",
    "            for x in paths[id_o][id_des]:           \n",
    "                tmp_coor.append(Coordinate[x])            \n",
    "            ##print \"4.3** Temporary Destination List=\" + str(tmp_coor)        \n",
    "            tmp_dict[\"geometry\"][\"coordinates\"].append(tmp_coor)\n",
    "            ##print \"4.4** tmp_dict are: \"+str(tmp_dict)+\"\\n\"      \n",
    "            geoDataSet[\"features\"].append(tmp_dict)\n",
    "\n",
    "        ##print \"4*\" + str(geoDataSet)+ \"\\n\""
   ]
  },
  {
   "cell_type": "code",
   "execution_count": 17,
   "metadata": {
    "collapsed": false
   },
   "outputs": [],
   "source": [
    "json.dumps(geoDataSet)\n",
    "\n",
    "with open( '%snodes.json' %('6000'), 'w' ) as f:\n",
    "    f.write( json.dumps(geoDataSet))"
   ]
  }
 ],
 "metadata": {
  "kernelspec": {
   "display_name": "Python 2",
   "language": "python",
   "name": "python2"
  },
  "language_info": {
   "codemirror_mode": {
    "name": "ipython",
    "version": 2
   },
   "file_extension": ".py",
   "mimetype": "text/x-python",
   "name": "python",
   "nbconvert_exporter": "python",
   "pygments_lexer": "ipython2",
   "version": "2.7.11"
  }
 },
 "nbformat": 4,
 "nbformat_minor": 0
}
