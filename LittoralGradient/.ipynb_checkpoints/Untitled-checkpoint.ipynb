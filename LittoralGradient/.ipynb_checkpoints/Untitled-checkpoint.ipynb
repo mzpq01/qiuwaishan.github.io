{
 "cells": [
  {
   "cell_type": "code",
   "execution_count": 1,
   "metadata": {
    "collapsed": false
   },
   "outputs": [
    {
     "name": "stdout",
     "output_type": "stream",
     "text": [
      "['01_Nanhui', '02_Lingang', '03_Caofeidian', '04_Tianjin', '05_Longkou', '06_Xuwei', '07_Dongtai', '08_Taihu', '09_Dongtan', '10_Binhai', '11_Yuhuan', '12_Shuangyu', '13_PilotZone', '14_SZ_Overseas', '15_SZ_Bay Park', '16_SZ_Shekou', '17_Qianhai', '18_HKZHMC', '19_MacauNovos', '20_SouthSea', '21_Sanya']\n"
     ]
    }
   ],
   "source": [
    "### Read and write CSV file\n",
    "import pandas as pd\n",
    "import time\n",
    "import os\n",
    "import numpy as np\n",
    "path = 'images/Cases'\n",
    "files = os.listdir(path)\n",
    "all_dir = []\n",
    "# print files\n",
    "for f in files:\n",
    "    if f.startswith(\".DS\"):\n",
    "        v=0\n",
    "    else:\n",
    "        all_dir.append(f)\n",
    "print all_dir"
   ]
  },
  {
   "cell_type": "code",
   "execution_count": 8,
   "metadata": {
    "collapsed": false
   },
   "outputs": [
    {
     "name": "stdout",
     "output_type": "stream",
     "text": [
      "{1: '<img src=\\\\\"images/Cases/01_Nanhui/nanhui lingang 01.png\\\\\" style=\\\\\"width:900px;\\\\\"> </p> <img src=\\\\\"images/Cases/01_Nanhui/nanhui lingang 02.png\\\\\" style=\\\\\"width:900px;\\\\\"> </p> <img src=\\\\\"images/Cases/01_Nanhui/nanhui lingang_01.png\\\\\" style=\\\\\"width:900px;\\\\\"> </p> <img src=\\\\\"images/Cases/01_Nanhui/nanhui lingang_02.png\\\\\" style=\\\\\"width:900px;\\\\\"> </p> <img src=\\\\\"images/Cases/01_Nanhui/nanhui lingang_03.png\\\\\" style=\\\\\"width:900px;\\\\\"> </p> <img src=\\\\\"images/Cases/01_Nanhui/nanhui lingang_04.png\\\\\" style=\\\\\"width:900px;\\\\\"> </p> <img src=\\\\\"images/Cases/01_Nanhui/nanhui lingang_05.png\\\\\" style=\\\\\"width:900px;\\\\\"> </p> <img src=\\\\\"images/Cases/01_Nanhui/nanhui lingang_06.png\\\\\" style=\\\\\"width:900px;\\\\\"> </p> <img src=\\\\\"images/Cases/01_Nanhui/nanhui lingang_07.png\\\\\" style=\\\\\"width:900px;\\\\\"> </p> <img src=\\\\\"images/Cases/01_Nanhui/nanhui lingang_08.png\\\\\" style=\\\\\"width:900px;\\\\\"> </p> <img src=\\\\\"images/Cases/01_Nanhui/nanhui lingang_09.png\\\\\" style=\\\\\"width:900px;\\\\\"> </p> <img src=\\\\\"images/Cases/01_Nanhui/nanhui lingang_10.png\\\\\" style=\\\\\"width:900px;\\\\\"> </p> <img src=\\\\\"images/Cases/01_Nanhui/nanhui lingang_11.png\\\\\" style=\\\\\"width:900px;\\\\\"> </p> <img src=\\\\\"images/Cases/01_Nanhui/nanhui lingang_12.png\\\\\" style=\\\\\"width:900px;\\\\\"> </p> <img src=\\\\\"images/Cases/01_Nanhui/nanhui lingang_13.png\\\\\" style=\\\\\"width:900px;\\\\\"> </p> <img src=\\\\\"images/Cases/01_Nanhui/nanhui lingang_14.png\\\\\" style=\\\\\"width:900px;\\\\\"> </p> <img src=\\\\\"images/Cases/01_Nanhui/nanhui lingang_15.png\\\\\" style=\\\\\"width:900px;\\\\\"> </p> <img src=\\\\\"images/Cases/01_Nanhui/nanhui lingang_16.png\\\\\" style=\\\\\"width:900px;\\\\\"> </p> <img src=\\\\\"images/Cases/01_Nanhui/nanhui lingang_17.png\\\\\" style=\\\\\"width:900px;\\\\\"> </p> <img src=\\\\\"images/Cases/01_Nanhui/nanhui lingang_18.png\\\\\" style=\\\\\"width:900px;\\\\\"> </p> <img src=\\\\\"images/Cases/01_Nanhui/nanhui lingang_19.png\\\\\" style=\\\\\"width:900px;\\\\\"> </p> <img src=\\\\\"images/Cases/01_Nanhui/nanhui lingang_20.png\\\\\" style=\\\\\"width:900px;\\\\\"> </p> <img src=\\\\\"images/Cases/01_Nanhui/nanhui lingang_21.png\\\\\" style=\\\\\"width:900px;\\\\\"> </p> <img src=\\\\\"images/Cases/01_Nanhui/nanhui lingang_22.png\\\\\" style=\\\\\"width:900px;\\\\\"> </p> <img src=\\\\\"images/Cases/01_Nanhui/nanhui lingang_23.png\\\\\" style=\\\\\"width:900px;\\\\\"> </p> ', 2: '<img src=\\\\\"images/Cases/02_Lingang/lingang_01.png\\\\\" style=\\\\\"width:900px;\\\\\"> </p> <img src=\\\\\"images/Cases/02_Lingang/lingang_02.png\\\\\" style=\\\\\"width:900px;\\\\\"> </p> ', 3: '<img src=\\\\\"images/Cases/03_Caofeidian/caofeidian 01.png\\\\\" style=\\\\\"width:900px;\\\\\"> </p> <img src=\\\\\"images/Cases/03_Caofeidian/caofeidian 02.png\\\\\" style=\\\\\"width:900px;\\\\\"> </p> <img src=\\\\\"images/Cases/03_Caofeidian/caofeidian_01.png\\\\\" style=\\\\\"width:900px;\\\\\"> </p> <img src=\\\\\"images/Cases/03_Caofeidian/caofeidian_02.png\\\\\" style=\\\\\"width:900px;\\\\\"> </p> <img src=\\\\\"images/Cases/03_Caofeidian/caofeidian_03.png\\\\\" style=\\\\\"width:900px;\\\\\"> </p> <img src=\\\\\"images/Cases/03_Caofeidian/caofeidian_04.png\\\\\" style=\\\\\"width:900px;\\\\\"> </p> <img src=\\\\\"images/Cases/03_Caofeidian/caofeidian_05.png\\\\\" style=\\\\\"width:900px;\\\\\"> </p> <img src=\\\\\"images/Cases/03_Caofeidian/caofeidian_06.png\\\\\" style=\\\\\"width:900px;\\\\\"> </p> <img src=\\\\\"images/Cases/03_Caofeidian/caofeidian_07.png\\\\\" style=\\\\\"width:900px;\\\\\"> </p> <img src=\\\\\"images/Cases/03_Caofeidian/caofeidian_08.png\\\\\" style=\\\\\"width:900px;\\\\\"> </p> <img src=\\\\\"images/Cases/03_Caofeidian/caofeidian_09.png\\\\\" style=\\\\\"width:900px;\\\\\"> </p> <img src=\\\\\"images/Cases/03_Caofeidian/caofeidian_10.png\\\\\" style=\\\\\"width:900px;\\\\\"> </p> <img src=\\\\\"images/Cases/03_Caofeidian/caofeidian_11.png\\\\\" style=\\\\\"width:900px;\\\\\"> </p> <img src=\\\\\"images/Cases/03_Caofeidian/caofeidian_12.png\\\\\" style=\\\\\"width:900px;\\\\\"> </p> <img src=\\\\\"images/Cases/03_Caofeidian/caofeidian_13.png\\\\\" style=\\\\\"width:900px;\\\\\"> </p> <img src=\\\\\"images/Cases/03_Caofeidian/caofeidian_14.png\\\\\" style=\\\\\"width:900px;\\\\\"> </p> <img src=\\\\\"images/Cases/03_Caofeidian/caofeidian_15.png\\\\\" style=\\\\\"width:900px;\\\\\"> </p> <img src=\\\\\"images/Cases/03_Caofeidian/caofeidian_16.png\\\\\" style=\\\\\"width:900px;\\\\\"> </p> <img src=\\\\\"images/Cases/03_Caofeidian/caofeidian_17.png\\\\\" style=\\\\\"width:900px;\\\\\"> </p> <img src=\\\\\"images/Cases/03_Caofeidian/caofeidian_18.png\\\\\" style=\\\\\"width:900px;\\\\\"> </p> <img src=\\\\\"images/Cases/03_Caofeidian/caofeidian_19.png\\\\\" style=\\\\\"width:900px;\\\\\"> </p> <img src=\\\\\"images/Cases/03_Caofeidian/caofeidian_20.png\\\\\" style=\\\\\"width:900px;\\\\\"> </p> <img src=\\\\\"images/Cases/03_Caofeidian/caofeidian_21.png\\\\\" style=\\\\\"width:900px;\\\\\"> </p> <img src=\\\\\"images/Cases/03_Caofeidian/caofeidian_22.png\\\\\" style=\\\\\"width:900px;\\\\\"> </p> <img src=\\\\\"images/Cases/03_Caofeidian/caofeidian_23.png\\\\\" style=\\\\\"width:900px;\\\\\"> </p> <img src=\\\\\"images/Cases/03_Caofeidian/caofeidian_24.png\\\\\" style=\\\\\"width:900px;\\\\\"> </p> <img src=\\\\\"images/Cases/03_Caofeidian/caofeidian_25.png\\\\\" style=\\\\\"width:900px;\\\\\"> </p> <img src=\\\\\"images/Cases/03_Caofeidian/caofeidian_26.png\\\\\" style=\\\\\"width:900px;\\\\\"> </p> <img src=\\\\\"images/Cases/03_Caofeidian/caofeidian_27.png\\\\\" style=\\\\\"width:900px;\\\\\"> </p> ', 4: '<img src=\\\\\"images/Cases/04_Tianjin/tianjin eco 01.png\\\\\" style=\\\\\"width:900px;\\\\\"> </p> <img src=\\\\\"images/Cases/04_Tianjin/tianjin eco 02.png\\\\\" style=\\\\\"width:900px;\\\\\"> </p> <img src=\\\\\"images/Cases/04_Tianjin/tianjin eco_01.png\\\\\" style=\\\\\"width:900px;\\\\\"> </p> <img src=\\\\\"images/Cases/04_Tianjin/tianjin eco_02.png\\\\\" style=\\\\\"width:900px;\\\\\"> </p> <img src=\\\\\"images/Cases/04_Tianjin/tianjin eco_03.png\\\\\" style=\\\\\"width:900px;\\\\\"> </p> <img src=\\\\\"images/Cases/04_Tianjin/tianjin eco_04.png\\\\\" style=\\\\\"width:900px;\\\\\"> </p> <img src=\\\\\"images/Cases/04_Tianjin/tianjin eco_05.png\\\\\" style=\\\\\"width:900px;\\\\\"> </p> <img src=\\\\\"images/Cases/04_Tianjin/tianjin eco_06.png\\\\\" style=\\\\\"width:900px;\\\\\"> </p> <img src=\\\\\"images/Cases/04_Tianjin/tianjin eco_07.png\\\\\" style=\\\\\"width:900px;\\\\\"> </p> <img src=\\\\\"images/Cases/04_Tianjin/tianjin eco_08.png\\\\\" style=\\\\\"width:900px;\\\\\"> </p> <img src=\\\\\"images/Cases/04_Tianjin/tianjin eco_09.png\\\\\" style=\\\\\"width:900px;\\\\\"> </p> <img src=\\\\\"images/Cases/04_Tianjin/tianjin eco_10.png\\\\\" style=\\\\\"width:900px;\\\\\"> </p> <img src=\\\\\"images/Cases/04_Tianjin/tianjin eco_11.png\\\\\" style=\\\\\"width:900px;\\\\\"> </p> <img src=\\\\\"images/Cases/04_Tianjin/tianjin eco_12.png\\\\\" style=\\\\\"width:900px;\\\\\"> </p> <img src=\\\\\"images/Cases/04_Tianjin/tianjin eco_13.png\\\\\" style=\\\\\"width:900px;\\\\\"> </p> <img src=\\\\\"images/Cases/04_Tianjin/tianjin eco_14.png\\\\\" style=\\\\\"width:900px;\\\\\"> </p> <img src=\\\\\"images/Cases/04_Tianjin/tianjin eco_15.png\\\\\" style=\\\\\"width:900px;\\\\\"> </p> <img src=\\\\\"images/Cases/04_Tianjin/tianjin eco_16.png\\\\\" style=\\\\\"width:900px;\\\\\"> </p> <img src=\\\\\"images/Cases/04_Tianjin/tianjin eco_17.png\\\\\" style=\\\\\"width:900px;\\\\\"> </p> <img src=\\\\\"images/Cases/04_Tianjin/tianjin eco_18.png\\\\\" style=\\\\\"width:900px;\\\\\"> </p> <img src=\\\\\"images/Cases/04_Tianjin/tianjin eco_19.png\\\\\" style=\\\\\"width:900px;\\\\\"> </p> <img src=\\\\\"images/Cases/04_Tianjin/tianjin eco_20.png\\\\\" style=\\\\\"width:900px;\\\\\"> </p> <img src=\\\\\"images/Cases/04_Tianjin/tianjin eco_21.png\\\\\" style=\\\\\"width:900px;\\\\\"> </p> <img src=\\\\\"images/Cases/04_Tianjin/tianjin eco_22.png\\\\\" style=\\\\\"width:900px;\\\\\"> </p> <img src=\\\\\"images/Cases/04_Tianjin/tianjin eco_23.png\\\\\" style=\\\\\"width:900px;\\\\\"> </p> <img src=\\\\\"images/Cases/04_Tianjin/tianjin eco_24.png\\\\\" style=\\\\\"width:900px;\\\\\"> </p> <img src=\\\\\"images/Cases/04_Tianjin/tianjin eco_25.png\\\\\" style=\\\\\"width:900px;\\\\\"> </p> <img src=\\\\\"images/Cases/04_Tianjin/tianjin eco_26.png\\\\\" style=\\\\\"width:900px;\\\\\"> </p> <img src=\\\\\"images/Cases/04_Tianjin/tianjin eco_27.png\\\\\" style=\\\\\"width:900px;\\\\\"> </p> <img src=\\\\\"images/Cases/04_Tianjin/tianjin eco_28.png\\\\\" style=\\\\\"width:900px;\\\\\"> </p> <img src=\\\\\"images/Cases/04_Tianjin/tianjin eco_29.png\\\\\" style=\\\\\"width:900px;\\\\\"> </p> <img src=\\\\\"images/Cases/04_Tianjin/tianjin eco_30.png\\\\\" style=\\\\\"width:900px;\\\\\"> </p> <img src=\\\\\"images/Cases/04_Tianjin/tianjin eco_31.png\\\\\" style=\\\\\"width:900px;\\\\\"> </p> <img src=\\\\\"images/Cases/04_Tianjin/tianjin eco_32.png\\\\\" style=\\\\\"width:900px;\\\\\"> </p> <img src=\\\\\"images/Cases/04_Tianjin/tianjin eco_33.png\\\\\" style=\\\\\"width:900px;\\\\\"> </p> ', 5: '<img src=\\\\\"images/Cases/05_Longkou/longkou_01.png\\\\\" style=\\\\\"width:900px;\\\\\"> </p> <img src=\\\\\"images/Cases/05_Longkou/longkou_02.png\\\\\" style=\\\\\"width:900px;\\\\\"> </p> ', 6: '<img src=\\\\\"images/Cases/06_Xuwei/xuwei_01.png\\\\\" style=\\\\\"width:900px;\\\\\"> </p> <img src=\\\\\"images/Cases/06_Xuwei/xuwei_02.png\\\\\" style=\\\\\"width:900px;\\\\\"> </p> ', 7: '<img src=\\\\\"images/Cases/07_Dongtai/dongtai tiaozini_01.png\\\\\" style=\\\\\"width:900px;\\\\\"> </p> <img src=\\\\\"images/Cases/07_Dongtai/dongtai tiaozini_02.png\\\\\" style=\\\\\"width:900px;\\\\\"> </p> ', 8: '<img src=\\\\\"images/Cases/08_Taihu/taihu_01.png\\\\\" style=\\\\\"width:900px;\\\\\"> </p> <img src=\\\\\"images/Cases/08_Taihu/taihu_02.png\\\\\" style=\\\\\"width:900px;\\\\\"> </p> ', 9: '<img src=\\\\\"images/Cases/09_Dongtan/dongtan eco_01.png\\\\\" style=\\\\\"width:900px;\\\\\"> </p> <img src=\\\\\"images/Cases/09_Dongtan/dongtan eco_02.png\\\\\" style=\\\\\"width:900px;\\\\\"> </p> ', 10: '<img src=\\\\\"images/Cases/10_Binhai/binhai_01.png\\\\\" style=\\\\\"width:900px;\\\\\"> </p> <img src=\\\\\"images/Cases/10_Binhai/binhai_02.png\\\\\" style=\\\\\"width:900px;\\\\\"> </p> ', 11: '<img src=\\\\\"images/Cases/11_Yuhuan/yuhuan_01.png\\\\\" style=\\\\\"width:900px;\\\\\"> </p> <img src=\\\\\"images/Cases/11_Yuhuan/yuhuan_02.png\\\\\" style=\\\\\"width:900px;\\\\\"> </p> ', 12: '<img src=\\\\\"images/Cases/12_Shuangyu/shuangyu_01.png\\\\\" style=\\\\\"width:900px;\\\\\"> </p> <img src=\\\\\"images/Cases/12_Shuangyu/shuangyu_02.png\\\\\" style=\\\\\"width:900px;\\\\\"> </p> ', 13: '<img src=\\\\\"images/Cases/13_PilotZone/pilot_01.png\\\\\" style=\\\\\"width:900px;\\\\\"> </p> <img src=\\\\\"images/Cases/13_PilotZone/pilot_02.png\\\\\" style=\\\\\"width:900px;\\\\\"> </p> ', 14: '<img src=\\\\\"images/Cases/14_SZ_Overseas/overseas chinese town_01.png\\\\\" style=\\\\\"width:900px;\\\\\"> </p> <img src=\\\\\"images/Cases/14_SZ_Overseas/overseas chinese town_02.png\\\\\" style=\\\\\"width:900px;\\\\\"> </p> ', 15: '<img src=\\\\\"images/Cases/15_SZ_Bay Park/shenzhen bay 01.png\\\\\" style=\\\\\"width:900px;\\\\\"> </p> <img src=\\\\\"images/Cases/15_SZ_Bay Park/shenzhen bay 02.png\\\\\" style=\\\\\"width:900px;\\\\\"> </p> <img src=\\\\\"images/Cases/15_SZ_Bay Park/shenzhen bay_01.png\\\\\" style=\\\\\"width:900px;\\\\\"> </p> <img src=\\\\\"images/Cases/15_SZ_Bay Park/shenzhen bay_02.png\\\\\" style=\\\\\"width:900px;\\\\\"> </p> <img src=\\\\\"images/Cases/15_SZ_Bay Park/shenzhen bay_03.png\\\\\" style=\\\\\"width:900px;\\\\\"> </p> <img src=\\\\\"images/Cases/15_SZ_Bay Park/shenzhen bay_04.png\\\\\" style=\\\\\"width:900px;\\\\\"> </p> ', 16: '<img src=\\\\\"images/Cases/16_SZ_Shekou/shekou industrial zone 01.png\\\\\" style=\\\\\"width:900px;\\\\\"> </p> <img src=\\\\\"images/Cases/16_SZ_Shekou/shekou industrial zone 02.png\\\\\" style=\\\\\"width:900px;\\\\\"> </p> <img src=\\\\\"images/Cases/16_SZ_Shekou/shekou industrial zone_01.png\\\\\" style=\\\\\"width:900px;\\\\\"> </p> <img src=\\\\\"images/Cases/16_SZ_Shekou/shekou industrial zone_02.png\\\\\" style=\\\\\"width:900px;\\\\\"> </p> <img src=\\\\\"images/Cases/16_SZ_Shekou/shekou industrial zone_03.png\\\\\" style=\\\\\"width:900px;\\\\\"> </p> <img src=\\\\\"images/Cases/16_SZ_Shekou/shekou industrial zone_04.png\\\\\" style=\\\\\"width:900px;\\\\\"> </p> ', 17: '<img src=\\\\\"images/Cases/17_Qianhai/qianhai shenzhen 01.png\\\\\" style=\\\\\"width:900px;\\\\\"> </p> <img src=\\\\\"images/Cases/17_Qianhai/qianhai shenzhen 02.png\\\\\" style=\\\\\"width:900px;\\\\\"> </p> <img src=\\\\\"images/Cases/17_Qianhai/qianhai shenzhen_01.png\\\\\" style=\\\\\"width:900px;\\\\\"> </p> <img src=\\\\\"images/Cases/17_Qianhai/qianhai shenzhen_02.png\\\\\" style=\\\\\"width:900px;\\\\\"> </p> <img src=\\\\\"images/Cases/17_Qianhai/qianhai shenzhen_03.png\\\\\" style=\\\\\"width:900px;\\\\\"> </p> <img src=\\\\\"images/Cases/17_Qianhai/qianhai shenzhen_04.png\\\\\" style=\\\\\"width:900px;\\\\\"> </p> <img src=\\\\\"images/Cases/17_Qianhai/qianhai shenzhen_05.png\\\\\" style=\\\\\"width:900px;\\\\\"> </p> <img src=\\\\\"images/Cases/17_Qianhai/qianhai shenzhen_06.png\\\\\" style=\\\\\"width:900px;\\\\\"> </p> <img src=\\\\\"images/Cases/17_Qianhai/qianhai shenzhen_07.png\\\\\" style=\\\\\"width:900px;\\\\\"> </p> <img src=\\\\\"images/Cases/17_Qianhai/qianhai shenzhen_08.png\\\\\" style=\\\\\"width:900px;\\\\\"> </p> <img src=\\\\\"images/Cases/17_Qianhai/qianhai shenzhen_09.png\\\\\" style=\\\\\"width:900px;\\\\\"> </p> <img src=\\\\\"images/Cases/17_Qianhai/qianhai shenzhen_10.png\\\\\" style=\\\\\"width:900px;\\\\\"> </p> <img src=\\\\\"images/Cases/17_Qianhai/qianhai shenzhen_11.png\\\\\" style=\\\\\"width:900px;\\\\\"> </p> <img src=\\\\\"images/Cases/17_Qianhai/qianhai shenzhen_12.png\\\\\" style=\\\\\"width:900px;\\\\\"> </p> <img src=\\\\\"images/Cases/17_Qianhai/qianhai shenzhen_13.png\\\\\" style=\\\\\"width:900px;\\\\\"> </p> <img src=\\\\\"images/Cases/17_Qianhai/qianhai shenzhen_14.png\\\\\" style=\\\\\"width:900px;\\\\\"> </p> <img src=\\\\\"images/Cases/17_Qianhai/qianhai shenzhen_15.png\\\\\" style=\\\\\"width:900px;\\\\\"> </p> <img src=\\\\\"images/Cases/17_Qianhai/qianhai shenzhen_16.png\\\\\" style=\\\\\"width:900px;\\\\\"> </p> <img src=\\\\\"images/Cases/17_Qianhai/qianhai shenzhen_17.png\\\\\" style=\\\\\"width:900px;\\\\\"> </p> <img src=\\\\\"images/Cases/17_Qianhai/qianhai shenzhen_18.png\\\\\" style=\\\\\"width:900px;\\\\\"> </p> <img src=\\\\\"images/Cases/17_Qianhai/qianhai shenzhen_19.png\\\\\" style=\\\\\"width:900px;\\\\\"> </p> <img src=\\\\\"images/Cases/17_Qianhai/qianhai shenzhen_20.png\\\\\" style=\\\\\"width:900px;\\\\\"> </p> <img src=\\\\\"images/Cases/17_Qianhai/qianhai shenzhen_21.png\\\\\" style=\\\\\"width:900px;\\\\\"> </p> <img src=\\\\\"images/Cases/17_Qianhai/qianhai shenzhen_22.png\\\\\" style=\\\\\"width:900px;\\\\\"> </p> <img src=\\\\\"images/Cases/17_Qianhai/qianhai shenzhen_23.png\\\\\" style=\\\\\"width:900px;\\\\\"> </p> <img src=\\\\\"images/Cases/17_Qianhai/qianhai shenzhen_24.png\\\\\" style=\\\\\"width:900px;\\\\\"> </p> <img src=\\\\\"images/Cases/17_Qianhai/qianhai shenzhen_25.png\\\\\" style=\\\\\"width:900px;\\\\\"> </p> <img src=\\\\\"images/Cases/17_Qianhai/qianhai shenzhen_26.png\\\\\" style=\\\\\"width:900px;\\\\\"> </p> <img src=\\\\\"images/Cases/17_Qianhai/qianhai shenzhen_27.png\\\\\" style=\\\\\"width:900px;\\\\\"> </p> <img src=\\\\\"images/Cases/17_Qianhai/qianhai shenzhen_28.png\\\\\" style=\\\\\"width:900px;\\\\\"> </p> <img src=\\\\\"images/Cases/17_Qianhai/qianhai shenzhen_29.png\\\\\" style=\\\\\"width:900px;\\\\\"> </p> <img src=\\\\\"images/Cases/17_Qianhai/qianhai shenzhen_30.png\\\\\" style=\\\\\"width:900px;\\\\\"> </p> <img src=\\\\\"images/Cases/17_Qianhai/qianhai shenzhen_31.png\\\\\" style=\\\\\"width:900px;\\\\\"> </p> <img src=\\\\\"images/Cases/17_Qianhai/qianhai shenzhen_32.png\\\\\" style=\\\\\"width:900px;\\\\\"> </p> <img src=\\\\\"images/Cases/17_Qianhai/qianhai shenzhen_33.png\\\\\" style=\\\\\"width:900px;\\\\\"> </p> <img src=\\\\\"images/Cases/17_Qianhai/qianhai shenzhen_34.png\\\\\" style=\\\\\"width:900px;\\\\\"> </p> <img src=\\\\\"images/Cases/17_Qianhai/qianhai shenzhen_35.png\\\\\" style=\\\\\"width:900px;\\\\\"> </p> <img src=\\\\\"images/Cases/17_Qianhai/qianhai shenzhen_36.png\\\\\" style=\\\\\"width:900px;\\\\\"> </p> <img src=\\\\\"images/Cases/17_Qianhai/qianhai shenzhen_37.png\\\\\" style=\\\\\"width:900px;\\\\\"> </p> <img src=\\\\\"images/Cases/17_Qianhai/qianhai shenzhen_38.png\\\\\" style=\\\\\"width:900px;\\\\\"> </p> <img src=\\\\\"images/Cases/17_Qianhai/qianhai shenzhen_39.png\\\\\" style=\\\\\"width:900px;\\\\\"> </p> <img src=\\\\\"images/Cases/17_Qianhai/qianhai shenzhen_40.png\\\\\" style=\\\\\"width:900px;\\\\\"> </p> <img src=\\\\\"images/Cases/17_Qianhai/qianhai shenzhen_41.png\\\\\" style=\\\\\"width:900px;\\\\\"> </p> <img src=\\\\\"images/Cases/17_Qianhai/qianhai shenzhen_42.png\\\\\" style=\\\\\"width:900px;\\\\\"> </p> <img src=\\\\\"images/Cases/17_Qianhai/qianhai shenzhen_43.png\\\\\" style=\\\\\"width:900px;\\\\\"> </p> <img src=\\\\\"images/Cases/17_Qianhai/qianhai shenzhen_44.png\\\\\" style=\\\\\"width:900px;\\\\\"> </p> <img src=\\\\\"images/Cases/17_Qianhai/qianhai shenzhen_45.png\\\\\" style=\\\\\"width:900px;\\\\\"> </p> <img src=\\\\\"images/Cases/17_Qianhai/qianhai shenzhen_46.png\\\\\" style=\\\\\"width:900px;\\\\\"> </p> <img src=\\\\\"images/Cases/17_Qianhai/qianhai shenzhen_47.png\\\\\" style=\\\\\"width:900px;\\\\\"> </p> <img src=\\\\\"images/Cases/17_Qianhai/qianhai shenzhen_48.png\\\\\" style=\\\\\"width:900px;\\\\\"> </p> ', 18: '<img src=\\\\\"images/Cases/18_HKZHMC/hongkong zhuhai macau_01.png\\\\\" style=\\\\\"width:900px;\\\\\"> </p> <img src=\\\\\"images/Cases/18_HKZHMC/hongkong zhuhai macau_02.png\\\\\" style=\\\\\"width:900px;\\\\\"> </p> ', 19: '<img src=\\\\\"images/Cases/19_MacauNovos/macau_01.png\\\\\" style=\\\\\"width:900px;\\\\\"> </p> <img src=\\\\\"images/Cases/19_MacauNovos/macau_02.png\\\\\" style=\\\\\"width:900px;\\\\\"> </p> <img src=\\\\\"images/Cases/19_MacauNovos/macau_03.png\\\\\" style=\\\\\"width:900px;\\\\\"> </p> <img src=\\\\\"images/Cases/19_MacauNovos/novos aterros_01.png\\\\\" style=\\\\\"width:900px;\\\\\"> </p> <img src=\\\\\"images/Cases/19_MacauNovos/novos aterros_02.png\\\\\" style=\\\\\"width:900px;\\\\\"> </p> ', 20: '<img src=\\\\\"images/Cases/20_SouthSea/south sea pearl eco_01.png\\\\\" style=\\\\\"width:900px;\\\\\"> </p> <img src=\\\\\"images/Cases/20_SouthSea/south sea pearl eco_02.png\\\\\" style=\\\\\"width:900px;\\\\\"> </p> ', 21: '<img src=\\\\\"images/Cases/21_Sanya/pheonix 01.png\\\\\" style=\\\\\"width:900px;\\\\\"> </p> <img src=\\\\\"images/Cases/21_Sanya/pheonix 02.png\\\\\" style=\\\\\"width:900px;\\\\\"> </p> <img src=\\\\\"images/Cases/21_Sanya/phoenix_01.png\\\\\" style=\\\\\"width:900px;\\\\\"> </p> <img src=\\\\\"images/Cases/21_Sanya/phoenix_02.png\\\\\" style=\\\\\"width:900px;\\\\\"> </p> <img src=\\\\\"images/Cases/21_Sanya/phoenix_03.png\\\\\" style=\\\\\"width:900px;\\\\\"> </p> <img src=\\\\\"images/Cases/21_Sanya/phoenix_04.png\\\\\" style=\\\\\"width:900px;\\\\\"> </p> <img src=\\\\\"images/Cases/21_Sanya/phoenix_05.png\\\\\" style=\\\\\"width:900px;\\\\\"> </p> <img src=\\\\\"images/Cases/21_Sanya/phoenix_06.png\\\\\" style=\\\\\"width:900px;\\\\\"> </p> <img src=\\\\\"images/Cases/21_Sanya/phoenix_07.png\\\\\" style=\\\\\"width:900px;\\\\\"> </p> <img src=\\\\\"images/Cases/21_Sanya/phoenix_08.png\\\\\" style=\\\\\"width:900px;\\\\\"> </p> <img src=\\\\\"images/Cases/21_Sanya/phoenix_09.png\\\\\" style=\\\\\"width:900px;\\\\\"> </p> <img src=\\\\\"images/Cases/21_Sanya/phoenix_10.png\\\\\" style=\\\\\"width:900px;\\\\\"> </p> <img src=\\\\\"images/Cases/21_Sanya/phoenix_11.png\\\\\" style=\\\\\"width:900px;\\\\\"> </p> <img src=\\\\\"images/Cases/21_Sanya/phoenix_12.png\\\\\" style=\\\\\"width:900px;\\\\\"> </p> <img src=\\\\\"images/Cases/21_Sanya/phoenix_13.png\\\\\" style=\\\\\"width:900px;\\\\\"> </p> <img src=\\\\\"images/Cases/21_Sanya/phoenix_14.png\\\\\" style=\\\\\"width:900px;\\\\\"> </p> <img src=\\\\\"images/Cases/21_Sanya/phoenix_15.png\\\\\" style=\\\\\"width:900px;\\\\\"> </p> <img src=\\\\\"images/Cases/21_Sanya/phoenix_16.png\\\\\" style=\\\\\"width:900px;\\\\\"> </p> <img src=\\\\\"images/Cases/21_Sanya/phoenix_17.png\\\\\" style=\\\\\"width:900px;\\\\\"> </p> <img src=\\\\\"images/Cases/21_Sanya/phoenix_18.png\\\\\" style=\\\\\"width:900px;\\\\\"> </p> '}\n"
     ]
    }
   ],
   "source": [
    "dict_folder = {}\n",
    "count = 0\n",
    "for i in all_dir: \n",
    "    count= count +1\n",
    "    #print i\n",
    "    new_path = path+'/'+i\n",
    "    #print new_path\n",
    "    files_tmp = os.listdir(new_path)\n",
    "    #print files_tmp\n",
    "    full_name = \"\"\n",
    "    for f in files_tmp:\n",
    "        fname= \"<img src=\\\\\\\"\" + new_path + \"/\" + f +\"\\\\\\\"\" + \" style=\\\\\\\"\" + \"width:900px;\\\\\\\"> </p> \"\n",
    "        full_name = full_name+fname\n",
    "    #print full_name\n",
    "    dict_folder[count]=full_name\n",
    "print dict_folder"
   ]
  },
  {
   "cell_type": "code",
   "execution_count": 23,
   "metadata": {
    "collapsed": false
   },
   "outputs": [
    {
     "name": "stdout",
     "output_type": "stream",
     "text": [
      "<img src=\\\"images/Cases/15_SZ_Bay Park/shenzhen bay 01.png\\\" style=\\\"width:900px;\\\"> </p> <img src=\\\"images/Cases/15_SZ_Bay Park/shenzhen bay 02.png\\\" style=\\\"width:900px;\\\"> </p> <img src=\\\"images/Cases/15_SZ_Bay Park/shenzhen bay_01.png\\\" style=\\\"width:900px;\\\"> </p> <img src=\\\"images/Cases/15_SZ_Bay Park/shenzhen bay_02.png\\\" style=\\\"width:900px;\\\"> </p> <img src=\\\"images/Cases/15_SZ_Bay Park/shenzhen bay_03.png\\\" style=\\\"width:900px;\\\"> </p> <img src=\\\"images/Cases/15_SZ_Bay Park/shenzhen bay_04.png\\\" style=\\\"width:900px;\\\"> </p> \n"
     ]
    }
   ],
   "source": [
    "print dict_folder[15]"
   ]
  },
  {
   "cell_type": "code",
   "execution_count": null,
   "metadata": {
    "collapsed": true
   },
   "outputs": [],
   "source": [
    "# print all_files\n",
    "count_files = len(all_files)\n",
    "print \"The Total Number of files need to read is: \" + str(count_files)\n",
    "df = pd.DataFrame()\n",
    "for filename in all_files:\n",
    "    ##print filename\n",
    "    new_path = \"TweetContent/\" + str(filename)\n",
    "    df0 = pd.read_csv(new_path)\n",
    "    df = df.append(df0)\n",
    "df.head(30)\n",
    "print df.shape\n",
    "df.to_csv(\"Content_All.csv\", index=True, header=True, encoding='utf-8')\n",
    "print \"Done\""
   ]
  }
 ],
 "metadata": {
  "kernelspec": {
   "display_name": "Python 2",
   "language": "python",
   "name": "python2"
  },
  "language_info": {
   "codemirror_mode": {
    "name": "ipython",
    "version": 2
   },
   "file_extension": ".py",
   "mimetype": "text/x-python",
   "name": "python",
   "nbconvert_exporter": "python",
   "pygments_lexer": "ipython2",
   "version": "2.7.11"
  }
 },
 "nbformat": 4,
 "nbformat_minor": 0
}
